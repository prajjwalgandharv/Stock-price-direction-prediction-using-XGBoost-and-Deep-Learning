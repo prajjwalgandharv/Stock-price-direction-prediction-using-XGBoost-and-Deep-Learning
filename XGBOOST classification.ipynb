{
 "cells": [
  {
   "cell_type": "code",
   "execution_count": 1,
   "id": "be62554c-bd2f-414d-b23f-4bb515879ca5",
   "metadata": {},
   "outputs": [],
   "source": [
    "import pandas as pd\n",
    "import numpy as np"
   ]
  },
  {
   "cell_type": "markdown",
   "id": "e2a80a90-c785-474b-8b8c-40d18691d197",
   "metadata": {},
   "source": [
    "# Data cleaning and preparation"
   ]
  },
  {
   "cell_type": "code",
   "execution_count": 2,
   "id": "0c9ec61f-0168-4add-90d5-cf9e835677c4",
   "metadata": {},
   "outputs": [],
   "source": [
    "messages = pd.read_csv(\"AMZN_2012-06-21_34200000_57600000_message_10.csv\")\n",
    "orderbook = pd.read_csv(\"AMZN_2012-06-21_34200000_57600000_orderbook_10.csv\")"
   ]
  },
  {
   "cell_type": "code",
   "execution_count": 3,
   "id": "449d89bf-41be-4115-9448-5cfb438991fa",
   "metadata": {},
   "outputs": [],
   "source": [
    "window = 50"
   ]
  },
  {
   "cell_type": "code",
   "execution_count": 4,
   "id": "59aa7125-d28f-4699-9ee9-0605995e220b",
   "metadata": {},
   "outputs": [],
   "source": [
    "columns = []\n",
    "for i in range(10):\n",
    "    columns += [f\"ask_price_{i+1}\", f\"ask_size_{i+1}\", f\"bid_price_{i+1}\", f\"bid_size_{i+1}\"]\n",
    "orderbook.columns = columns"
   ]
  },
  {
   "cell_type": "code",
   "execution_count": 5,
   "id": "6753c1eb-f118-4d2f-94d5-4411d0427c65",
   "metadata": {},
   "outputs": [],
   "source": [
    "messages.columns = [\"time\", \"type\", \"order_id\", \"size\", \"price\", \"direction\"] "
   ]
  },
  {
   "cell_type": "code",
   "execution_count": 6,
   "id": "b74bf0b2-618f-4184-a4fd-dd79d134d45a",
   "metadata": {},
   "outputs": [
    {
     "name": "stdout",
     "output_type": "stream",
     "text": [
      "(269747, 40)\n",
      "   ask_price_1  ask_size_1  bid_price_1  bid_size_1  ask_price_2  ask_size_2  \\\n",
      "0      2239500         100      2238100          21      2239900         100   \n",
      "1      2239500         100      2238100          21      2239600          20   \n",
      "2      2239500         100      2238100          21      2239600          20   \n",
      "3      2239500         100      2238100          21      2239600          20   \n",
      "4      2239500         100      2238100          21      2239600          20   \n",
      "\n",
      "   bid_price_2  bid_size_2  ask_price_3  ask_size_3  ...  bid_price_8  \\\n",
      "0      2231800         100      2240000         220  ...      2204000   \n",
      "1      2231800         100      2239900         100  ...      2204000   \n",
      "2      2237500         100      2239900         100  ...      2213000   \n",
      "3      2237500         100      2239900         100  ...      2213000   \n",
      "4      2237500         100      2239900         100  ...      2226200   \n",
      "\n",
      "   bid_size_8  ask_price_9  ask_size_9  bid_price_9  bid_size_9  ask_price_10  \\\n",
      "0         100      2294300         100      2202500        5000       2298000   \n",
      "1         100      2267700         100      2202500        5000       2294300   \n",
      "2        4000      2267700         100      2204000         100       2294300   \n",
      "3        4000      2267700         100      2204000         100       2294300   \n",
      "4         100      2267700         100      2213000        4000       2294300   \n",
      "\n",
      "   ask_size_10  bid_price_10  bid_size_10  \n",
      "0          100       2202000          100  \n",
      "1          100       2202000          100  \n",
      "2          100       2202500         5000  \n",
      "3          100       2202500         5000  \n",
      "4          100       2204000          100  \n",
      "\n",
      "[5 rows x 40 columns]\n",
      "(269747, 6)\n",
      "           time  type  order_id  size    price  direction\n",
      "0  34200.189608     1  11885113    21  2238100          1\n",
      "1  34200.189608     1   3911376    20  2239600         -1\n",
      "2  34200.189608     1  11534792   100  2237500          1\n",
      "3  34200.189608     1   1365373    13  2240000         -1\n",
      "4  34200.189608     1  11474176     2  2236500          1\n"
     ]
    }
   ],
   "source": [
    "print(orderbook.shape)\n",
    "print(orderbook.head())\n",
    "print(messages.shape)\n",
    "print(messages.head())"
   ]
  },
  {
   "cell_type": "code",
   "execution_count": 7,
   "id": "8246af78-760e-48a4-84d8-b9b0d236ff15",
   "metadata": {},
   "outputs": [],
   "source": [
    "midprice = (orderbook['ask_price_1']+orderbook['bid_price_1'])/2\n",
    "future_price = midprice.shift(-window).dropna() # where window is the event horizon over which we will assess stock price changes.\n",
    "delta = future_price - midprice\n",
    "labels = delta.apply(lambda x: 1 if x>0 else (-1 if x<0 else 0))\n",
    "midprice = midprice[:-window]\n",
    "labels = labels[:-window]"
   ]
  },
  {
   "cell_type": "code",
   "execution_count": 8,
   "id": "21e247a2-2f42-4f4c-b29f-924fdcae9d86",
   "metadata": {},
   "outputs": [
    {
     "name": "stdout",
     "output_type": "stream",
     "text": [
      "-1    121777\n",
      " 1    113046\n",
      " 0     34874\n",
      "Name: count, dtype: int64\n"
     ]
    }
   ],
   "source": [
    "print(labels.value_counts())"
   ]
  },
  {
   "cell_type": "code",
   "execution_count": 9,
   "id": "1f155ef1-3ec4-491b-97ca-0352abb9c57d",
   "metadata": {},
   "outputs": [
    {
     "name": "stdout",
     "output_type": "stream",
     "text": [
      "269697 269697 269697\n"
     ]
    }
   ],
   "source": [
    "print(len(midprice), len(labels), len(future_price))"
   ]
  },
  {
   "cell_type": "code",
   "execution_count": 10,
   "id": "11fb84ab-a059-435e-bd4f-e1c715fa8e11",
   "metadata": {},
   "outputs": [
    {
     "data": {
      "text/plain": [
       "2238700.0"
      ]
     },
     "execution_count": 10,
     "metadata": {},
     "output_type": "execute_result"
    }
   ],
   "source": [
    "midprice[50]"
   ]
  },
  {
   "cell_type": "code",
   "execution_count": 11,
   "id": "4eb390d0-7d43-407c-a4af-19be33e70025",
   "metadata": {},
   "outputs": [
    {
     "data": {
      "text/plain": [
       "2238700.0"
      ]
     },
     "execution_count": 11,
     "metadata": {},
     "output_type": "execute_result"
    }
   ],
   "source": [
    "future_price[0]"
   ]
  },
  {
   "cell_type": "code",
   "execution_count": 12,
   "id": "46966c87-db50-4404-a788-3ad9ce3da0a5",
   "metadata": {},
   "outputs": [
    {
     "data": {
      "text/plain": [
       "2205900.0"
      ]
     },
     "execution_count": 12,
     "metadata": {},
     "output_type": "execute_result"
    }
   ],
   "source": [
    "midprice.iloc[-1]"
   ]
  },
  {
   "cell_type": "code",
   "execution_count": 13,
   "id": "0f2a88bb-647d-462e-9f7e-3624daaea02a",
   "metadata": {},
   "outputs": [
    {
     "data": {
      "text/plain": [
       "2205900.0"
      ]
     },
     "execution_count": 13,
     "metadata": {},
     "output_type": "execute_result"
    }
   ],
   "source": [
    "future_price.iloc[-51]"
   ]
  },
  {
   "cell_type": "code",
   "execution_count": 14,
   "id": "93d4ef38-3a6c-43d5-bf5d-2396f3668eb7",
   "metadata": {},
   "outputs": [
    {
     "data": {
      "text/plain": [
       "2205750.0"
      ]
     },
     "execution_count": 14,
     "metadata": {},
     "output_type": "execute_result"
    }
   ],
   "source": [
    "future_price.iloc[-1]"
   ]
  },
  {
   "cell_type": "code",
   "execution_count": 15,
   "id": "225b2c6f-9dcd-444f-9cbb-1f79f01d467a",
   "metadata": {},
   "outputs": [
    {
     "data": {
      "text/plain": [
       "0        -100.0\n",
       "1        -100.0\n",
       "2        -100.0\n",
       "3        -100.0\n",
       "4        -100.0\n",
       "          ...  \n",
       "269742      NaN\n",
       "269743      NaN\n",
       "269744      NaN\n",
       "269745      NaN\n",
       "269746      NaN\n",
       "Length: 269747, dtype: float64"
      ]
     },
     "execution_count": 15,
     "metadata": {},
     "output_type": "execute_result"
    }
   ],
   "source": [
    "delta"
   ]
  },
  {
   "cell_type": "markdown",
   "id": "54c41b33-0e4d-4eca-9d53-f1bf840646b6",
   "metadata": {},
   "source": [
    "# Feature Engineering"
   ]
  },
  {
   "cell_type": "markdown",
   "id": "89e8ad83-d5a0-4f8b-a860-308a7d4defcf",
   "metadata": {
    "tags": []
   },
   "source": [
    "### Spread, Depth ratio, orderbook imbalance and Rolling Trade imbalance"
   ]
  },
  {
   "cell_type": "code",
   "execution_count": 16,
   "id": "8c5d6719-46da-426e-b017-91a7cbe3879d",
   "metadata": {},
   "outputs": [],
   "source": [
    "spread = orderbook['ask_price_1'] - orderbook['bid_price_1']"
   ]
  },
  {
   "cell_type": "code",
   "execution_count": 17,
   "id": "fd312057-2c4a-40de-bf5d-8ed2edfdeb72",
   "metadata": {},
   "outputs": [],
   "source": [
    "bid_vol_1 = orderbook['bid_size_1']\n",
    "ask_vol_1 = orderbook['ask_size_1']\n",
    "depth_ratio = bid_vol_1/ask_vol_1\n",
    "orderbook_imbalance = (bid_vol_1-ask_vol_1)/(bid_vol_1 + ask_vol_1)"
   ]
  },
  {
   "cell_type": "code",
   "execution_count": 18,
   "id": "b8e2361f-1053-41ac-959f-fad06a1c8522",
   "metadata": {},
   "outputs": [],
   "source": [
    "trade_mask = (messages[\"type\"] == 4).astype(int)"
   ]
  },
  {
   "cell_type": "code",
   "execution_count": 19,
   "id": "8b246a25-94bf-4015-9bcc-5f8d751a8371",
   "metadata": {},
   "outputs": [],
   "source": [
    "trade_dir = messages[\"direction\"]"
   ]
  },
  {
   "cell_type": "code",
   "execution_count": 20,
   "id": "f7626269-4dc2-4b0b-9a81-8bd78d14af57",
   "metadata": {},
   "outputs": [
    {
     "data": {
      "text/plain": [
       "direction\n",
       "-1    139403\n",
       " 1    130344\n",
       "Name: count, dtype: int64"
      ]
     },
     "execution_count": 20,
     "metadata": {},
     "output_type": "execute_result"
    }
   ],
   "source": [
    "trade_dir.value_counts()"
   ]
  },
  {
   "cell_type": "code",
   "execution_count": 21,
   "id": "a231caa5-0646-4a1f-b13e-8dbd9f1fd908",
   "metadata": {},
   "outputs": [],
   "source": [
    "trade_signal = trade_mask*trade_dir"
   ]
  },
  {
   "cell_type": "code",
   "execution_count": 22,
   "id": "b8e758bf-342d-49be-a58b-c8e47a64c652",
   "metadata": {},
   "outputs": [],
   "source": [
    "rolling_trade_imbalance = trade_signal.rolling(window=window).sum() # feature"
   ]
  },
  {
   "cell_type": "code",
   "execution_count": 23,
   "id": "0bf05c3c-ce47-451e-bcb7-3b8d1c13204b",
   "metadata": {},
   "outputs": [
    {
     "name": "stdout",
     "output_type": "stream",
     "text": [
      "(269747,) (269747,) (269747,) (269747,)\n"
     ]
    }
   ],
   "source": [
    "print(trade_mask.shape, trade_dir.shape, trade_signal.shape, rolling_trade_imbalance.shape)"
   ]
  },
  {
   "cell_type": "markdown",
   "id": "c9d5f70b-36e4-408f-9608-cfae6ae07193",
   "metadata": {},
   "source": [
    "### Cancel to add ratio"
   ]
  },
  {
   "cell_type": "code",
   "execution_count": 24,
   "id": "fa65c170-d72b-4e5e-9ffd-d0e56c865fa8",
   "metadata": {},
   "outputs": [],
   "source": [
    "adds = (messages['type'] == 1).astype(int)\n",
    "cancels = (messages['type'] == 2).astype(int)\n",
    "rolling_adds = adds.rolling(window).sum()\n",
    "rolling_cancels = cancels.rolling(window).sum()\n",
    "cancel_to_add_ratio = rolling_cancels/(rolling_adds + 1e-6)"
   ]
  },
  {
   "cell_type": "code",
   "execution_count": 25,
   "id": "9b688c3a-557a-44cf-818e-8f476980c050",
   "metadata": {},
   "outputs": [
    {
     "data": {
      "text/plain": [
       "0         NaN\n",
       "1         NaN\n",
       "2         NaN\n",
       "3         NaN\n",
       "4         NaN\n",
       "         ... \n",
       "269742    0.0\n",
       "269743    0.0\n",
       "269744    0.0\n",
       "269745    0.0\n",
       "269746    0.0\n",
       "Name: type, Length: 269747, dtype: float64"
      ]
     },
     "execution_count": 25,
     "metadata": {},
     "output_type": "execute_result"
    }
   ],
   "source": [
    "cancel_to_add_ratio"
   ]
  },
  {
   "cell_type": "markdown",
   "id": "c6845db6-597f-4e09-953c-00a9364bb51a",
   "metadata": {},
   "source": [
    "### Aggressive volume ratio (market order volume/total volume)"
   ]
  },
  {
   "cell_type": "code",
   "execution_count": 26,
   "id": "c62a52ee-6460-4531-a552-84fbebf1e3a2",
   "metadata": {},
   "outputs": [],
   "source": [
    "is_exec = (messages['type'] == 4).astype(int)\n",
    "exec_vol = is_exec * messages['size']\n",
    "rolling_market_order_vol = exec_vol.rolling(window).sum()\n",
    "rolling_total_vol = messages['size'].rolling(window).sum()\n",
    "aggressive_volume_ratio = rolling_market_order_vol/(rolling_total_vol + 1e-6)"
   ]
  },
  {
   "cell_type": "code",
   "execution_count": 27,
   "id": "5de386fa-2910-4d90-acfd-2e5151928c32",
   "metadata": {},
   "outputs": [
    {
     "data": {
      "text/plain": [
       "0              NaN\n",
       "1              NaN\n",
       "2              NaN\n",
       "3              NaN\n",
       "4              NaN\n",
       "            ...   \n",
       "269742    0.030232\n",
       "269743    0.030232\n",
       "269744    0.031825\n",
       "269745    0.033816\n",
       "269746    0.033816\n",
       "Length: 269747, dtype: float64"
      ]
     },
     "execution_count": 27,
     "metadata": {},
     "output_type": "execute_result"
    }
   ],
   "source": [
    "aggressive_volume_ratio"
   ]
  },
  {
   "cell_type": "markdown",
   "id": "0082cef1-f5b2-48fd-8eb1-6dad1609dac9",
   "metadata": {},
   "source": [
    "### Rolling midprice change and rolling return volatility"
   ]
  },
  {
   "cell_type": "code",
   "execution_count": 28,
   "id": "2335e296-6604-49b4-896b-c3d6d2e5177b",
   "metadata": {},
   "outputs": [],
   "source": [
    "rolling_mid_price_change = midprice.rolling(window=window).apply(lambda x: x[-1]-x[0], raw=True)"
   ]
  },
  {
   "cell_type": "code",
   "execution_count": 29,
   "id": "b30185dc-20ca-40b0-a38c-43b2eaabd1ff",
   "metadata": {},
   "outputs": [
    {
     "data": {
      "text/plain": [
       "0           NaN\n",
       "1           NaN\n",
       "2           NaN\n",
       "3           NaN\n",
       "4           NaN\n",
       "          ...  \n",
       "269692   -350.0\n",
       "269693   -350.0\n",
       "269694   -350.0\n",
       "269695   -350.0\n",
       "269696   -350.0\n",
       "Length: 269697, dtype: float64"
      ]
     },
     "execution_count": 29,
     "metadata": {},
     "output_type": "execute_result"
    }
   ],
   "source": [
    "rolling_mid_price_change"
   ]
  },
  {
   "cell_type": "code",
   "execution_count": 30,
   "id": "02f0a9bf-a389-4c97-be4c-65db35165f55",
   "metadata": {},
   "outputs": [],
   "source": [
    "mid_price_return = midprice.pct_change().fillna(0)\n",
    "rolling_return_volatility = mid_price_return.rolling(window=window).std()"
   ]
  },
  {
   "cell_type": "markdown",
   "id": "809b57e4-f641-4aa8-a6b3-2ede6e9abf31",
   "metadata": {},
   "source": [
    "### Message rate"
   ]
  },
  {
   "cell_type": "code",
   "execution_count": 31,
   "id": "58708485-c2dd-422d-8fac-b8f5b4ed3dc7",
   "metadata": {},
   "outputs": [],
   "source": [
    "time = messages[\"time\"]\n",
    "time_diff = time.diff()"
   ]
  },
  {
   "cell_type": "code",
   "execution_count": 32,
   "id": "067680b6-0523-479d-afeb-0e9f3e2f9986",
   "metadata": {},
   "outputs": [],
   "source": [
    "instant_msg_rate = 1 / time_diff"
   ]
  },
  {
   "cell_type": "code",
   "execution_count": 33,
   "id": "ae4cafc9-78d2-42b3-b903-022e91e312fd",
   "metadata": {},
   "outputs": [],
   "source": [
    "instant_msg_rate = instant_msg_rate.replace(np.inf, np.nan)"
   ]
  },
  {
   "cell_type": "code",
   "execution_count": 34,
   "id": "ad662d19-0de4-44e1-b6dc-a51b8d114479",
   "metadata": {},
   "outputs": [
    {
     "data": {
      "text/plain": [
       "0                NaN\n",
       "1                NaN\n",
       "2                NaN\n",
       "3                NaN\n",
       "4                NaN\n",
       "             ...    \n",
       "269742      3.085058\n",
       "269743     32.002293\n",
       "269744     19.511078\n",
       "269745    333.040702\n",
       "269746    896.833639\n",
       "Name: time, Length: 269747, dtype: float64"
      ]
     },
     "execution_count": 34,
     "metadata": {},
     "output_type": "execute_result"
    }
   ],
   "source": [
    "instant_msg_rate"
   ]
  },
  {
   "cell_type": "code",
   "execution_count": 35,
   "id": "65eb1cd6-06c8-4343-bd26-a2a553af450a",
   "metadata": {},
   "outputs": [],
   "source": [
    "instant_msg_rate = instant_msg_rate.fillna(instant_msg_rate.max())"
   ]
  },
  {
   "cell_type": "code",
   "execution_count": 36,
   "id": "baceff4e-fdff-4363-ba5d-d91b550cc5e0",
   "metadata": {},
   "outputs": [
    {
     "data": {
      "text/plain": [
       "0         4.347820e+06\n",
       "1         4.347820e+06\n",
       "2         4.347820e+06\n",
       "3         4.347820e+06\n",
       "4         4.347820e+06\n",
       "              ...     \n",
       "269742    3.085058e+00\n",
       "269743    3.200229e+01\n",
       "269744    1.951108e+01\n",
       "269745    3.330407e+02\n",
       "269746    8.968336e+02\n",
       "Name: time, Length: 269747, dtype: float64"
      ]
     },
     "execution_count": 36,
     "metadata": {},
     "output_type": "execute_result"
    }
   ],
   "source": [
    "instant_msg_rate"
   ]
  },
  {
   "cell_type": "code",
   "execution_count": 37,
   "id": "9cfdc68d-141b-42e5-b971-d155599102aa",
   "metadata": {},
   "outputs": [],
   "source": [
    "rolling_message_rate = instant_msg_rate.rolling(window=window).mean()"
   ]
  },
  {
   "cell_type": "code",
   "execution_count": 38,
   "id": "5fa67cf6-df52-46ca-8be2-5791fef032ec",
   "metadata": {},
   "outputs": [],
   "source": [
    "rolling_message_rate = rolling_message_rate.fillna(rolling_message_rate.max())"
   ]
  },
  {
   "cell_type": "code",
   "execution_count": 39,
   "id": "46b1cfd9-5311-43ea-99db-c4a7ac7967e0",
   "metadata": {},
   "outputs": [
    {
     "data": {
      "text/plain": [
       "0         2.957504e+06\n",
       "1         2.957504e+06\n",
       "2         2.957504e+06\n",
       "3         2.957504e+06\n",
       "4         2.957504e+06\n",
       "              ...     \n",
       "269742    1.898794e+05\n",
       "269743    1.898800e+05\n",
       "269744    1.898798e+05\n",
       "269745    1.898829e+05\n",
       "269746    1.899007e+05\n",
       "Name: time, Length: 269747, dtype: float64"
      ]
     },
     "execution_count": 39,
     "metadata": {},
     "output_type": "execute_result"
    }
   ],
   "source": [
    "rolling_message_rate"
   ]
  },
  {
   "cell_type": "markdown",
   "id": "19a87e00-e04a-4b53-9340-340507195499",
   "metadata": {},
   "source": [
    "# Feature matrix"
   ]
  },
  {
   "cell_type": "code",
   "execution_count": 40,
   "id": "0a2d37fc-cc95-4771-ad11-4d2b4bd2c253",
   "metadata": {},
   "outputs": [],
   "source": [
    "X = pd.DataFrame({\n",
    "    'spread': spread,\n",
    "    'depth_ratio': depth_ratio,\n",
    "    'orderbook_imbalance': orderbook_imbalance,\n",
    "    'rolling_trade_imbalance': rolling_trade_imbalance,\n",
    "    'cancel_to_add_ratio': cancel_to_add_ratio,\n",
    "    'aggressive_volume_ratio': aggressive_volume_ratio,\n",
    "    'rolling_mid_price_change': rolling_mid_price_change,\n",
    "    'rolling_return_volatility': rolling_return_volatility,\n",
    "    'rolling_message_rate': rolling_message_rate,\n",
    "    'mid_price': midprice\n",
    "})"
   ]
  },
  {
   "cell_type": "code",
   "execution_count": 41,
   "id": "3cfd20d9-8d8b-4135-988d-8e7cc8557dc9",
   "metadata": {},
   "outputs": [
    {
     "data": {
      "text/html": [
       "<div>\n",
       "<style scoped>\n",
       "    .dataframe tbody tr th:only-of-type {\n",
       "        vertical-align: middle;\n",
       "    }\n",
       "\n",
       "    .dataframe tbody tr th {\n",
       "        vertical-align: top;\n",
       "    }\n",
       "\n",
       "    .dataframe thead th {\n",
       "        text-align: right;\n",
       "    }\n",
       "</style>\n",
       "<table border=\"1\" class=\"dataframe\">\n",
       "  <thead>\n",
       "    <tr style=\"text-align: right;\">\n",
       "      <th></th>\n",
       "      <th>spread</th>\n",
       "      <th>depth_ratio</th>\n",
       "      <th>orderbook_imbalance</th>\n",
       "      <th>rolling_trade_imbalance</th>\n",
       "      <th>cancel_to_add_ratio</th>\n",
       "      <th>aggressive_volume_ratio</th>\n",
       "      <th>rolling_mid_price_change</th>\n",
       "      <th>rolling_return_volatility</th>\n",
       "      <th>rolling_message_rate</th>\n",
       "      <th>mid_price</th>\n",
       "    </tr>\n",
       "  </thead>\n",
       "  <tbody>\n",
       "    <tr>\n",
       "      <th>0</th>\n",
       "      <td>1400</td>\n",
       "      <td>0.21</td>\n",
       "      <td>-0.652893</td>\n",
       "      <td>NaN</td>\n",
       "      <td>NaN</td>\n",
       "      <td>NaN</td>\n",
       "      <td>NaN</td>\n",
       "      <td>NaN</td>\n",
       "      <td>2.957504e+06</td>\n",
       "      <td>2238800.0</td>\n",
       "    </tr>\n",
       "    <tr>\n",
       "      <th>1</th>\n",
       "      <td>1400</td>\n",
       "      <td>0.21</td>\n",
       "      <td>-0.652893</td>\n",
       "      <td>NaN</td>\n",
       "      <td>NaN</td>\n",
       "      <td>NaN</td>\n",
       "      <td>NaN</td>\n",
       "      <td>NaN</td>\n",
       "      <td>2.957504e+06</td>\n",
       "      <td>2238800.0</td>\n",
       "    </tr>\n",
       "    <tr>\n",
       "      <th>2</th>\n",
       "      <td>1400</td>\n",
       "      <td>0.21</td>\n",
       "      <td>-0.652893</td>\n",
       "      <td>NaN</td>\n",
       "      <td>NaN</td>\n",
       "      <td>NaN</td>\n",
       "      <td>NaN</td>\n",
       "      <td>NaN</td>\n",
       "      <td>2.957504e+06</td>\n",
       "      <td>2238800.0</td>\n",
       "    </tr>\n",
       "    <tr>\n",
       "      <th>3</th>\n",
       "      <td>1400</td>\n",
       "      <td>0.21</td>\n",
       "      <td>-0.652893</td>\n",
       "      <td>NaN</td>\n",
       "      <td>NaN</td>\n",
       "      <td>NaN</td>\n",
       "      <td>NaN</td>\n",
       "      <td>NaN</td>\n",
       "      <td>2.957504e+06</td>\n",
       "      <td>2238800.0</td>\n",
       "    </tr>\n",
       "    <tr>\n",
       "      <th>4</th>\n",
       "      <td>1400</td>\n",
       "      <td>0.21</td>\n",
       "      <td>-0.652893</td>\n",
       "      <td>NaN</td>\n",
       "      <td>NaN</td>\n",
       "      <td>NaN</td>\n",
       "      <td>NaN</td>\n",
       "      <td>NaN</td>\n",
       "      <td>2.957504e+06</td>\n",
       "      <td>2238800.0</td>\n",
       "    </tr>\n",
       "    <tr>\n",
       "      <th>...</th>\n",
       "      <td>...</td>\n",
       "      <td>...</td>\n",
       "      <td>...</td>\n",
       "      <td>...</td>\n",
       "      <td>...</td>\n",
       "      <td>...</td>\n",
       "      <td>...</td>\n",
       "      <td>...</td>\n",
       "      <td>...</td>\n",
       "      <td>...</td>\n",
       "    </tr>\n",
       "    <tr>\n",
       "      <th>269742</th>\n",
       "      <td>1100</td>\n",
       "      <td>2.49</td>\n",
       "      <td>0.426934</td>\n",
       "      <td>4.0</td>\n",
       "      <td>0.0</td>\n",
       "      <td>0.030232</td>\n",
       "      <td>NaN</td>\n",
       "      <td>NaN</td>\n",
       "      <td>1.898794e+05</td>\n",
       "      <td>NaN</td>\n",
       "    </tr>\n",
       "    <tr>\n",
       "      <th>269743</th>\n",
       "      <td>1300</td>\n",
       "      <td>2.49</td>\n",
       "      <td>0.426934</td>\n",
       "      <td>4.0</td>\n",
       "      <td>0.0</td>\n",
       "      <td>0.030232</td>\n",
       "      <td>NaN</td>\n",
       "      <td>NaN</td>\n",
       "      <td>1.898800e+05</td>\n",
       "      <td>NaN</td>\n",
       "    </tr>\n",
       "    <tr>\n",
       "      <th>269744</th>\n",
       "      <td>1300</td>\n",
       "      <td>2.49</td>\n",
       "      <td>0.426934</td>\n",
       "      <td>4.0</td>\n",
       "      <td>0.0</td>\n",
       "      <td>0.031825</td>\n",
       "      <td>NaN</td>\n",
       "      <td>NaN</td>\n",
       "      <td>1.898798e+05</td>\n",
       "      <td>NaN</td>\n",
       "    </tr>\n",
       "    <tr>\n",
       "      <th>269745</th>\n",
       "      <td>1200</td>\n",
       "      <td>2.49</td>\n",
       "      <td>0.426934</td>\n",
       "      <td>4.0</td>\n",
       "      <td>0.0</td>\n",
       "      <td>0.033816</td>\n",
       "      <td>NaN</td>\n",
       "      <td>NaN</td>\n",
       "      <td>1.898829e+05</td>\n",
       "      <td>NaN</td>\n",
       "    </tr>\n",
       "    <tr>\n",
       "      <th>269746</th>\n",
       "      <td>1300</td>\n",
       "      <td>2.49</td>\n",
       "      <td>0.426934</td>\n",
       "      <td>4.0</td>\n",
       "      <td>0.0</td>\n",
       "      <td>0.033816</td>\n",
       "      <td>NaN</td>\n",
       "      <td>NaN</td>\n",
       "      <td>1.899007e+05</td>\n",
       "      <td>NaN</td>\n",
       "    </tr>\n",
       "  </tbody>\n",
       "</table>\n",
       "<p>269747 rows × 10 columns</p>\n",
       "</div>"
      ],
      "text/plain": [
       "        spread  depth_ratio  orderbook_imbalance  rolling_trade_imbalance  \\\n",
       "0         1400         0.21            -0.652893                      NaN   \n",
       "1         1400         0.21            -0.652893                      NaN   \n",
       "2         1400         0.21            -0.652893                      NaN   \n",
       "3         1400         0.21            -0.652893                      NaN   \n",
       "4         1400         0.21            -0.652893                      NaN   \n",
       "...        ...          ...                  ...                      ...   \n",
       "269742    1100         2.49             0.426934                      4.0   \n",
       "269743    1300         2.49             0.426934                      4.0   \n",
       "269744    1300         2.49             0.426934                      4.0   \n",
       "269745    1200         2.49             0.426934                      4.0   \n",
       "269746    1300         2.49             0.426934                      4.0   \n",
       "\n",
       "        cancel_to_add_ratio  aggressive_volume_ratio  \\\n",
       "0                       NaN                      NaN   \n",
       "1                       NaN                      NaN   \n",
       "2                       NaN                      NaN   \n",
       "3                       NaN                      NaN   \n",
       "4                       NaN                      NaN   \n",
       "...                     ...                      ...   \n",
       "269742                  0.0                 0.030232   \n",
       "269743                  0.0                 0.030232   \n",
       "269744                  0.0                 0.031825   \n",
       "269745                  0.0                 0.033816   \n",
       "269746                  0.0                 0.033816   \n",
       "\n",
       "        rolling_mid_price_change  rolling_return_volatility  \\\n",
       "0                            NaN                        NaN   \n",
       "1                            NaN                        NaN   \n",
       "2                            NaN                        NaN   \n",
       "3                            NaN                        NaN   \n",
       "4                            NaN                        NaN   \n",
       "...                          ...                        ...   \n",
       "269742                       NaN                        NaN   \n",
       "269743                       NaN                        NaN   \n",
       "269744                       NaN                        NaN   \n",
       "269745                       NaN                        NaN   \n",
       "269746                       NaN                        NaN   \n",
       "\n",
       "        rolling_message_rate  mid_price  \n",
       "0               2.957504e+06  2238800.0  \n",
       "1               2.957504e+06  2238800.0  \n",
       "2               2.957504e+06  2238800.0  \n",
       "3               2.957504e+06  2238800.0  \n",
       "4               2.957504e+06  2238800.0  \n",
       "...                      ...        ...  \n",
       "269742          1.898794e+05        NaN  \n",
       "269743          1.898800e+05        NaN  \n",
       "269744          1.898798e+05        NaN  \n",
       "269745          1.898829e+05        NaN  \n",
       "269746          1.899007e+05        NaN  \n",
       "\n",
       "[269747 rows x 10 columns]"
      ]
     },
     "execution_count": 41,
     "metadata": {},
     "output_type": "execute_result"
    }
   ],
   "source": [
    "X"
   ]
  },
  {
   "cell_type": "code",
   "execution_count": 42,
   "id": "f55f12cf-6197-47be-85aa-5f61426aa34b",
   "metadata": {},
   "outputs": [
    {
     "name": "stdout",
     "output_type": "stream",
     "text": [
      "spread                        0\n",
      "depth_ratio                   0\n",
      "orderbook_imbalance           0\n",
      "rolling_trade_imbalance      49\n",
      "cancel_to_add_ratio          49\n",
      "aggressive_volume_ratio      49\n",
      "rolling_mid_price_change     99\n",
      "rolling_return_volatility    99\n",
      "rolling_message_rate          0\n",
      "mid_price                    50\n",
      "dtype: int64\n"
     ]
    }
   ],
   "source": [
    "print(X.isna().sum())"
   ]
  },
  {
   "cell_type": "code",
   "execution_count": 43,
   "id": "1b437587-3577-4117-b499-90335fb2fe0d",
   "metadata": {},
   "outputs": [],
   "source": [
    "X = X.dropna().reset_index(drop=True)\n",
    "labels = labels.iloc[-len(X):].reset_index(drop=True)"
   ]
  },
  {
   "cell_type": "code",
   "execution_count": 44,
   "id": "6a0edf27-2698-48bf-8692-a1c47e95750c",
   "metadata": {},
   "outputs": [
    {
     "data": {
      "text/html": [
       "<div>\n",
       "<style scoped>\n",
       "    .dataframe tbody tr th:only-of-type {\n",
       "        vertical-align: middle;\n",
       "    }\n",
       "\n",
       "    .dataframe tbody tr th {\n",
       "        vertical-align: top;\n",
       "    }\n",
       "\n",
       "    .dataframe thead th {\n",
       "        text-align: right;\n",
       "    }\n",
       "</style>\n",
       "<table border=\"1\" class=\"dataframe\">\n",
       "  <thead>\n",
       "    <tr style=\"text-align: right;\">\n",
       "      <th></th>\n",
       "      <th>spread</th>\n",
       "      <th>depth_ratio</th>\n",
       "      <th>orderbook_imbalance</th>\n",
       "      <th>rolling_trade_imbalance</th>\n",
       "      <th>cancel_to_add_ratio</th>\n",
       "      <th>aggressive_volume_ratio</th>\n",
       "      <th>rolling_mid_price_change</th>\n",
       "      <th>rolling_return_volatility</th>\n",
       "      <th>rolling_message_rate</th>\n",
       "      <th>mid_price</th>\n",
       "    </tr>\n",
       "  </thead>\n",
       "  <tbody>\n",
       "    <tr>\n",
       "      <th>0</th>\n",
       "      <td>2400</td>\n",
       "      <td>0.740</td>\n",
       "      <td>-0.149425</td>\n",
       "      <td>-2.0</td>\n",
       "      <td>0.0</td>\n",
       "      <td>0.125997</td>\n",
       "      <td>-100.0</td>\n",
       "      <td>0.000022</td>\n",
       "      <td>2.957504e+06</td>\n",
       "      <td>2238700.0</td>\n",
       "    </tr>\n",
       "    <tr>\n",
       "      <th>1</th>\n",
       "      <td>2400</td>\n",
       "      <td>0.740</td>\n",
       "      <td>-0.149425</td>\n",
       "      <td>-2.0</td>\n",
       "      <td>0.0</td>\n",
       "      <td>0.123769</td>\n",
       "      <td>-100.0</td>\n",
       "      <td>0.000022</td>\n",
       "      <td>2.870691e+06</td>\n",
       "      <td>2238700.0</td>\n",
       "    </tr>\n",
       "    <tr>\n",
       "      <th>2</th>\n",
       "      <td>2400</td>\n",
       "      <td>0.740</td>\n",
       "      <td>-0.149425</td>\n",
       "      <td>-2.0</td>\n",
       "      <td>0.0</td>\n",
       "      <td>0.121592</td>\n",
       "      <td>-100.0</td>\n",
       "      <td>0.000022</td>\n",
       "      <td>2.783746e+06</td>\n",
       "      <td>2238700.0</td>\n",
       "    </tr>\n",
       "    <tr>\n",
       "      <th>3</th>\n",
       "      <td>2400</td>\n",
       "      <td>0.740</td>\n",
       "      <td>-0.149425</td>\n",
       "      <td>-2.0</td>\n",
       "      <td>0.0</td>\n",
       "      <td>0.124047</td>\n",
       "      <td>-100.0</td>\n",
       "      <td>0.000022</td>\n",
       "      <td>2.696807e+06</td>\n",
       "      <td>2238700.0</td>\n",
       "    </tr>\n",
       "    <tr>\n",
       "      <th>4</th>\n",
       "      <td>2400</td>\n",
       "      <td>7.400</td>\n",
       "      <td>0.761905</td>\n",
       "      <td>-3.0</td>\n",
       "      <td>0.0</td>\n",
       "      <td>0.141786</td>\n",
       "      <td>-100.0</td>\n",
       "      <td>0.000022</td>\n",
       "      <td>2.696807e+06</td>\n",
       "      <td>2238700.0</td>\n",
       "    </tr>\n",
       "    <tr>\n",
       "      <th>...</th>\n",
       "      <td>...</td>\n",
       "      <td>...</td>\n",
       "      <td>...</td>\n",
       "      <td>...</td>\n",
       "      <td>...</td>\n",
       "      <td>...</td>\n",
       "      <td>...</td>\n",
       "      <td>...</td>\n",
       "      <td>...</td>\n",
       "      <td>...</td>\n",
       "    </tr>\n",
       "    <tr>\n",
       "      <th>269643</th>\n",
       "      <td>1000</td>\n",
       "      <td>0.625</td>\n",
       "      <td>-0.230769</td>\n",
       "      <td>-3.0</td>\n",
       "      <td>0.0</td>\n",
       "      <td>0.096890</td>\n",
       "      <td>-350.0</td>\n",
       "      <td>0.000022</td>\n",
       "      <td>1.307632e+06</td>\n",
       "      <td>2205900.0</td>\n",
       "    </tr>\n",
       "    <tr>\n",
       "      <th>269644</th>\n",
       "      <td>1000</td>\n",
       "      <td>0.625</td>\n",
       "      <td>-0.230769</td>\n",
       "      <td>-3.0</td>\n",
       "      <td>0.0</td>\n",
       "      <td>0.096890</td>\n",
       "      <td>-350.0</td>\n",
       "      <td>0.000021</td>\n",
       "      <td>1.307630e+06</td>\n",
       "      <td>2205900.0</td>\n",
       "    </tr>\n",
       "    <tr>\n",
       "      <th>269645</th>\n",
       "      <td>1000</td>\n",
       "      <td>0.625</td>\n",
       "      <td>-0.230769</td>\n",
       "      <td>-3.0</td>\n",
       "      <td>0.0</td>\n",
       "      <td>0.086581</td>\n",
       "      <td>-350.0</td>\n",
       "      <td>0.000021</td>\n",
       "      <td>1.307592e+06</td>\n",
       "      <td>2205900.0</td>\n",
       "    </tr>\n",
       "    <tr>\n",
       "      <th>269646</th>\n",
       "      <td>1000</td>\n",
       "      <td>0.625</td>\n",
       "      <td>-0.230769</td>\n",
       "      <td>-3.0</td>\n",
       "      <td>0.0</td>\n",
       "      <td>0.078256</td>\n",
       "      <td>-350.0</td>\n",
       "      <td>0.000021</td>\n",
       "      <td>1.220640e+06</td>\n",
       "      <td>2205900.0</td>\n",
       "    </tr>\n",
       "    <tr>\n",
       "      <th>269647</th>\n",
       "      <td>1000</td>\n",
       "      <td>0.625</td>\n",
       "      <td>-0.230769</td>\n",
       "      <td>-3.0</td>\n",
       "      <td>0.0</td>\n",
       "      <td>0.078256</td>\n",
       "      <td>-350.0</td>\n",
       "      <td>0.000021</td>\n",
       "      <td>1.220638e+06</td>\n",
       "      <td>2205900.0</td>\n",
       "    </tr>\n",
       "  </tbody>\n",
       "</table>\n",
       "<p>269648 rows × 10 columns</p>\n",
       "</div>"
      ],
      "text/plain": [
       "        spread  depth_ratio  orderbook_imbalance  rolling_trade_imbalance  \\\n",
       "0         2400        0.740            -0.149425                     -2.0   \n",
       "1         2400        0.740            -0.149425                     -2.0   \n",
       "2         2400        0.740            -0.149425                     -2.0   \n",
       "3         2400        0.740            -0.149425                     -2.0   \n",
       "4         2400        7.400             0.761905                     -3.0   \n",
       "...        ...          ...                  ...                      ...   \n",
       "269643    1000        0.625            -0.230769                     -3.0   \n",
       "269644    1000        0.625            -0.230769                     -3.0   \n",
       "269645    1000        0.625            -0.230769                     -3.0   \n",
       "269646    1000        0.625            -0.230769                     -3.0   \n",
       "269647    1000        0.625            -0.230769                     -3.0   \n",
       "\n",
       "        cancel_to_add_ratio  aggressive_volume_ratio  \\\n",
       "0                       0.0                 0.125997   \n",
       "1                       0.0                 0.123769   \n",
       "2                       0.0                 0.121592   \n",
       "3                       0.0                 0.124047   \n",
       "4                       0.0                 0.141786   \n",
       "...                     ...                      ...   \n",
       "269643                  0.0                 0.096890   \n",
       "269644                  0.0                 0.096890   \n",
       "269645                  0.0                 0.086581   \n",
       "269646                  0.0                 0.078256   \n",
       "269647                  0.0                 0.078256   \n",
       "\n",
       "        rolling_mid_price_change  rolling_return_volatility  \\\n",
       "0                         -100.0                   0.000022   \n",
       "1                         -100.0                   0.000022   \n",
       "2                         -100.0                   0.000022   \n",
       "3                         -100.0                   0.000022   \n",
       "4                         -100.0                   0.000022   \n",
       "...                          ...                        ...   \n",
       "269643                    -350.0                   0.000022   \n",
       "269644                    -350.0                   0.000021   \n",
       "269645                    -350.0                   0.000021   \n",
       "269646                    -350.0                   0.000021   \n",
       "269647                    -350.0                   0.000021   \n",
       "\n",
       "        rolling_message_rate  mid_price  \n",
       "0               2.957504e+06  2238700.0  \n",
       "1               2.870691e+06  2238700.0  \n",
       "2               2.783746e+06  2238700.0  \n",
       "3               2.696807e+06  2238700.0  \n",
       "4               2.696807e+06  2238700.0  \n",
       "...                      ...        ...  \n",
       "269643          1.307632e+06  2205900.0  \n",
       "269644          1.307630e+06  2205900.0  \n",
       "269645          1.307592e+06  2205900.0  \n",
       "269646          1.220640e+06  2205900.0  \n",
       "269647          1.220638e+06  2205900.0  \n",
       "\n",
       "[269648 rows x 10 columns]"
      ]
     },
     "execution_count": 44,
     "metadata": {},
     "output_type": "execute_result"
    }
   ],
   "source": [
    "X"
   ]
  },
  {
   "cell_type": "markdown",
   "id": "069c7bfa-b716-4465-b2d5-b9db990fcb8e",
   "metadata": {},
   "source": [
    "# First Model (M1) using XGBoost"
   ]
  },
  {
   "cell_type": "code",
   "execution_count": 45,
   "id": "9d56c926-ea5a-4d71-b81a-34a4c308130f",
   "metadata": {},
   "outputs": [],
   "source": [
    "import xgboost as xgb"
   ]
  },
  {
   "cell_type": "code",
   "execution_count": 46,
   "id": "e63ea29a-9d45-43cd-8089-bcaa7b31d7a4",
   "metadata": {},
   "outputs": [],
   "source": [
    "from sklearn.model_selection import train_test_split\n",
    "from sklearn.metrics import classification_report, confusion_matrix, log_loss"
   ]
  },
  {
   "cell_type": "code",
   "execution_count": 47,
   "id": "8d200989-874d-42b7-bde0-b07519af341f",
   "metadata": {},
   "outputs": [],
   "source": [
    "X_train, X_test, y_train, y_test = train_test_split(\n",
    "    X, labels, test_size=0.2, random_state=42, stratify=labels\n",
    ")"
   ]
  },
  {
   "cell_type": "code",
   "execution_count": 48,
   "id": "80769086-7539-4d1c-b20a-a3baf3da53ae",
   "metadata": {},
   "outputs": [],
   "source": [
    "y_train_mapped = y_train.map({-1: 0, 0: 1, 1: 2})\n",
    "y_test_mapped  = y_test.map({-1: 0, 0: 1, 1: 2})"
   ]
  },
  {
   "cell_type": "code",
   "execution_count": 49,
   "id": "5167d0bb-22aa-4391-a077-712376a833d1",
   "metadata": {},
   "outputs": [],
   "source": [
    "clf = xgb.XGBClassifier(\n",
    "    n_estimators=100,\n",
    "    max_depth=5,\n",
    "    learning_rate=0.1,\n",
    "    subsample=0.8,\n",
    "    colsample_bytree=0.8,\n",
    "    objective='multi:softmax',\n",
    "    num_class=3,\n",
    "    random_state=42\n",
    ")"
   ]
  },
  {
   "cell_type": "code",
   "execution_count": 50,
   "id": "5945e9cb-602a-495e-ac3c-30dffb913416",
   "metadata": {},
   "outputs": [
    {
     "data": {
      "text/html": [
       "<style>#sk-container-id-1 {color: black;}#sk-container-id-1 pre{padding: 0;}#sk-container-id-1 div.sk-toggleable {background-color: white;}#sk-container-id-1 label.sk-toggleable__label {cursor: pointer;display: block;width: 100%;margin-bottom: 0;padding: 0.3em;box-sizing: border-box;text-align: center;}#sk-container-id-1 label.sk-toggleable__label-arrow:before {content: \"▸\";float: left;margin-right: 0.25em;color: #696969;}#sk-container-id-1 label.sk-toggleable__label-arrow:hover:before {color: black;}#sk-container-id-1 div.sk-estimator:hover label.sk-toggleable__label-arrow:before {color: black;}#sk-container-id-1 div.sk-toggleable__content {max-height: 0;max-width: 0;overflow: hidden;text-align: left;background-color: #f0f8ff;}#sk-container-id-1 div.sk-toggleable__content pre {margin: 0.2em;color: black;border-radius: 0.25em;background-color: #f0f8ff;}#sk-container-id-1 input.sk-toggleable__control:checked~div.sk-toggleable__content {max-height: 200px;max-width: 100%;overflow: auto;}#sk-container-id-1 input.sk-toggleable__control:checked~label.sk-toggleable__label-arrow:before {content: \"▾\";}#sk-container-id-1 div.sk-estimator input.sk-toggleable__control:checked~label.sk-toggleable__label {background-color: #d4ebff;}#sk-container-id-1 div.sk-label input.sk-toggleable__control:checked~label.sk-toggleable__label {background-color: #d4ebff;}#sk-container-id-1 input.sk-hidden--visually {border: 0;clip: rect(1px 1px 1px 1px);clip: rect(1px, 1px, 1px, 1px);height: 1px;margin: -1px;overflow: hidden;padding: 0;position: absolute;width: 1px;}#sk-container-id-1 div.sk-estimator {font-family: monospace;background-color: #f0f8ff;border: 1px dotted black;border-radius: 0.25em;box-sizing: border-box;margin-bottom: 0.5em;}#sk-container-id-1 div.sk-estimator:hover {background-color: #d4ebff;}#sk-container-id-1 div.sk-parallel-item::after {content: \"\";width: 100%;border-bottom: 1px solid gray;flex-grow: 1;}#sk-container-id-1 div.sk-label:hover label.sk-toggleable__label {background-color: #d4ebff;}#sk-container-id-1 div.sk-serial::before {content: \"\";position: absolute;border-left: 1px solid gray;box-sizing: border-box;top: 0;bottom: 0;left: 50%;z-index: 0;}#sk-container-id-1 div.sk-serial {display: flex;flex-direction: column;align-items: center;background-color: white;padding-right: 0.2em;padding-left: 0.2em;position: relative;}#sk-container-id-1 div.sk-item {position: relative;z-index: 1;}#sk-container-id-1 div.sk-parallel {display: flex;align-items: stretch;justify-content: center;background-color: white;position: relative;}#sk-container-id-1 div.sk-item::before, #sk-container-id-1 div.sk-parallel-item::before {content: \"\";position: absolute;border-left: 1px solid gray;box-sizing: border-box;top: 0;bottom: 0;left: 50%;z-index: -1;}#sk-container-id-1 div.sk-parallel-item {display: flex;flex-direction: column;z-index: 1;position: relative;background-color: white;}#sk-container-id-1 div.sk-parallel-item:first-child::after {align-self: flex-end;width: 50%;}#sk-container-id-1 div.sk-parallel-item:last-child::after {align-self: flex-start;width: 50%;}#sk-container-id-1 div.sk-parallel-item:only-child::after {width: 0;}#sk-container-id-1 div.sk-dashed-wrapped {border: 1px dashed gray;margin: 0 0.4em 0.5em 0.4em;box-sizing: border-box;padding-bottom: 0.4em;background-color: white;}#sk-container-id-1 div.sk-label label {font-family: monospace;font-weight: bold;display: inline-block;line-height: 1.2em;}#sk-container-id-1 div.sk-label-container {text-align: center;}#sk-container-id-1 div.sk-container {/* jupyter's `normalize.less` sets `[hidden] { display: none; }` but bootstrap.min.css set `[hidden] { display: none !important; }` so we also need the `!important` here to be able to override the default hidden behavior on the sphinx rendered scikit-learn.org. See: https://github.com/scikit-learn/scikit-learn/issues/21755 */display: inline-block !important;position: relative;}#sk-container-id-1 div.sk-text-repr-fallback {display: none;}</style><div id=\"sk-container-id-1\" class=\"sk-top-container\"><div class=\"sk-text-repr-fallback\"><pre>XGBClassifier(base_score=None, booster=None, callbacks=None,\n",
       "              colsample_bylevel=None, colsample_bynode=None,\n",
       "              colsample_bytree=0.8, device=None, early_stopping_rounds=None,\n",
       "              enable_categorical=False, eval_metric=None, feature_types=None,\n",
       "              gamma=None, grow_policy=None, importance_type=None,\n",
       "              interaction_constraints=None, learning_rate=0.1, max_bin=None,\n",
       "              max_cat_threshold=None, max_cat_to_onehot=None,\n",
       "              max_delta_step=None, max_depth=5, max_leaves=None,\n",
       "              min_child_weight=None, missing=nan, monotone_constraints=None,\n",
       "              multi_strategy=None, n_estimators=100, n_jobs=None, num_class=3,\n",
       "              num_parallel_tree=None, ...)</pre><b>In a Jupyter environment, please rerun this cell to show the HTML representation or trust the notebook. <br />On GitHub, the HTML representation is unable to render, please try loading this page with nbviewer.org.</b></div><div class=\"sk-container\" hidden><div class=\"sk-item\"><div class=\"sk-estimator sk-toggleable\"><input class=\"sk-toggleable__control sk-hidden--visually\" id=\"sk-estimator-id-1\" type=\"checkbox\" checked><label for=\"sk-estimator-id-1\" class=\"sk-toggleable__label sk-toggleable__label-arrow\">XGBClassifier</label><div class=\"sk-toggleable__content\"><pre>XGBClassifier(base_score=None, booster=None, callbacks=None,\n",
       "              colsample_bylevel=None, colsample_bynode=None,\n",
       "              colsample_bytree=0.8, device=None, early_stopping_rounds=None,\n",
       "              enable_categorical=False, eval_metric=None, feature_types=None,\n",
       "              gamma=None, grow_policy=None, importance_type=None,\n",
       "              interaction_constraints=None, learning_rate=0.1, max_bin=None,\n",
       "              max_cat_threshold=None, max_cat_to_onehot=None,\n",
       "              max_delta_step=None, max_depth=5, max_leaves=None,\n",
       "              min_child_weight=None, missing=nan, monotone_constraints=None,\n",
       "              multi_strategy=None, n_estimators=100, n_jobs=None, num_class=3,\n",
       "              num_parallel_tree=None, ...)</pre></div></div></div></div></div>"
      ],
      "text/plain": [
       "XGBClassifier(base_score=None, booster=None, callbacks=None,\n",
       "              colsample_bylevel=None, colsample_bynode=None,\n",
       "              colsample_bytree=0.8, device=None, early_stopping_rounds=None,\n",
       "              enable_categorical=False, eval_metric=None, feature_types=None,\n",
       "              gamma=None, grow_policy=None, importance_type=None,\n",
       "              interaction_constraints=None, learning_rate=0.1, max_bin=None,\n",
       "              max_cat_threshold=None, max_cat_to_onehot=None,\n",
       "              max_delta_step=None, max_depth=5, max_leaves=None,\n",
       "              min_child_weight=None, missing=nan, monotone_constraints=None,\n",
       "              multi_strategy=None, n_estimators=100, n_jobs=None, num_class=3,\n",
       "              num_parallel_tree=None, ...)"
      ]
     },
     "execution_count": 50,
     "metadata": {},
     "output_type": "execute_result"
    }
   ],
   "source": [
    "clf.fit(X_train, y_train_mapped)"
   ]
  },
  {
   "cell_type": "code",
   "execution_count": 51,
   "id": "5b98e9d5-aa57-4ea7-be8c-4dde3e61a5d7",
   "metadata": {},
   "outputs": [],
   "source": [
    "y_pred_mapped = clf.predict(X_test)"
   ]
  },
  {
   "cell_type": "code",
   "execution_count": 52,
   "id": "7892a652-a1e3-400a-a0a4-b1508f895661",
   "metadata": {},
   "outputs": [
    {
     "data": {
      "text/plain": [
       "array([2, 0, 0, ..., 2, 2, 0])"
      ]
     },
     "execution_count": 52,
     "metadata": {},
     "output_type": "execute_result"
    }
   ],
   "source": [
    "y_pred_mapped"
   ]
  },
  {
   "cell_type": "code",
   "execution_count": 53,
   "id": "a9a70a2d-2171-49db-94d2-11db8230ec8d",
   "metadata": {},
   "outputs": [],
   "source": [
    "inverse_map = {0: -1, 1: 0, 2: 1}\n",
    "y_pred = pd.Series(y_pred_mapped).map(inverse_map)"
   ]
  },
  {
   "cell_type": "code",
   "execution_count": 54,
   "id": "7ca75f23-0d13-4ce3-902d-6f0bb1a83be8",
   "metadata": {},
   "outputs": [
    {
     "name": "stdout",
     "output_type": "stream",
     "text": [
      "[[18291    51  6007]\n",
      " [ 3916   327  2732]\n",
      " [ 7908    69 14629]]\n",
      "              precision    recall  f1-score   support\n",
      "\n",
      "        down       0.61      0.75      0.67     24349\n",
      "     neutral       0.73      0.05      0.09      6975\n",
      "          up       0.63      0.65      0.64     22606\n",
      "\n",
      "    accuracy                           0.62     53930\n",
      "   macro avg       0.65      0.48      0.47     53930\n",
      "weighted avg       0.63      0.62      0.58     53930\n",
      "\n"
     ]
    }
   ],
   "source": [
    "print(confusion_matrix(y_test, y_pred, labels=[-1, 0, 1]))\n",
    "print(classification_report(y_test, y_pred, target_names=[\"down\", \"neutral\", \"up\"]))"
   ]
  },
  {
   "cell_type": "markdown",
   "id": "7a1befc0-c058-45a8-943b-3ab0067a4583",
   "metadata": {},
   "source": [
    "### M1 advanced"
   ]
  },
  {
   "cell_type": "code",
   "execution_count": 55,
   "id": "a9b7d9f1-3e15-46a1-81c2-a7c989a217c8",
   "metadata": {},
   "outputs": [],
   "source": [
    "n = len(X)\n",
    "train_sz = int(n * 0.70)\n",
    "val_sz = int(n * 0.15)\n",
    "\n",
    "X_train, y_train = X.iloc[:train_sz], labels.iloc[:train_sz]\n",
    "X_val, y_val = X.iloc[train_sz:train_sz+val_sz], labels.iloc[train_sz:train_sz+val_sz]\n",
    "X_test, y_test = X.iloc[train_sz+val_sz:], labels.iloc[train_sz+val_sz:]"
   ]
  },
  {
   "cell_type": "code",
   "execution_count": 56,
   "id": "a22b8692-a534-490d-95cd-14e02d56b2f5",
   "metadata": {},
   "outputs": [],
   "source": [
    "label_map = {-1: 0, 0: 1, 1: 2}\n",
    "y_train_mapped = y_train.map(label_map)\n",
    "y_val_mapped   = y_val.map(label_map)\n",
    "y_test_mapped  = y_test.map(label_map)"
   ]
  },
  {
   "cell_type": "code",
   "execution_count": 57,
   "id": "0c46f206-8da6-4195-8016-722414151bfb",
   "metadata": {},
   "outputs": [],
   "source": [
    "dtrain = xgb.DMatrix(X_train, label=y_train_mapped)\n",
    "dval   = xgb.DMatrix(X_val, label=y_val_mapped)\n",
    "dtest  = xgb.DMatrix(X_test, label=y_test_mapped)"
   ]
  },
  {
   "cell_type": "code",
   "execution_count": 58,
   "id": "3536d852-381e-4813-a63f-d9d8b48e9ec4",
   "metadata": {},
   "outputs": [],
   "source": [
    "params = {\n",
    "    \"objective\": \"multi:softprob\",\n",
    "    \"num_class\": 3,\n",
    "    \"eval_metric\": \"mlogloss\",\n",
    "    \"eta\": 0.05,\n",
    "    \"max_depth\": 6,\n",
    "    \"subsample\": 0.8,\n",
    "    \"colsample_bytree\": 0.8,\n",
    "    \"min_child_weight\": 1,\n",
    "    \"gamma\": 0.1,\n",
    "    \"lambda\": 1.0,\n",
    "    \"nthread\": 4,\n",
    "    \"seed\": 42\n",
    "}"
   ]
  },
  {
   "cell_type": "code",
   "execution_count": 59,
   "id": "c7abd86a-10ba-4165-8dfa-ac0c9f4a52cf",
   "metadata": {},
   "outputs": [
    {
     "name": "stdout",
     "output_type": "stream",
     "text": [
      "[0]\ttrain-mlogloss:1.08549\tval-mlogloss:1.08511\n",
      "[50]\ttrain-mlogloss:0.86730\tval-mlogloss:0.91744\n",
      "[94]\ttrain-mlogloss:0.82292\tval-mlogloss:0.92151\n"
     ]
    }
   ],
   "source": [
    "watchlist = [(dtrain, \"train\"), (dval, \"val\")]\n",
    "\n",
    "model = xgb.train(\n",
    "    params,\n",
    "    dtrain,\n",
    "    num_boost_round=800,\n",
    "    early_stopping_rounds=40,\n",
    "    evals=watchlist,\n",
    "    verbose_eval=50\n",
    ")"
   ]
  },
  {
   "cell_type": "code",
   "execution_count": 60,
   "id": "24f197e2-4aa3-4599-8912-2ee4ba8dbd42",
   "metadata": {},
   "outputs": [],
   "source": [
    "y_prob = model.predict(dtest)\n",
    "y_pred_mapped = np.argmax(y_prob, axis=1)\n",
    "inverse_map = {0: -1, 1: 0, 2: 1}\n",
    "y_pred = pd.Series(y_pred_mapped).map(inverse_map)"
   ]
  },
  {
   "cell_type": "code",
   "execution_count": 61,
   "id": "c98bf0e4-1226-4f63-bd95-9ca3b5765fd4",
   "metadata": {},
   "outputs": [
    {
     "name": "stdout",
     "output_type": "stream",
     "text": [
      "Confusion Matrix:\n",
      "[[10752     0  7445]\n",
      " [ 2341     9  2440]\n",
      " [ 5856    19 11586]]\n"
     ]
    }
   ],
   "source": [
    "print(\"Confusion Matrix:\")\n",
    "print(confusion_matrix(y_test, y_pred, labels=[-1, 0, 1]))"
   ]
  },
  {
   "cell_type": "code",
   "execution_count": 62,
   "id": "b9ae6bb6-f3df-4c25-afa1-5f66241d4466",
   "metadata": {},
   "outputs": [
    {
     "name": "stdout",
     "output_type": "stream",
     "text": [
      "\n",
      "Classification Report:\n",
      "              precision    recall  f1-score   support\n",
      "\n",
      "        down       0.57      0.59      0.58     18197\n",
      "     neutral       0.32      0.00      0.00      4790\n",
      "          up       0.54      0.66      0.60     17461\n",
      "\n",
      "    accuracy                           0.55     40448\n",
      "   macro avg       0.48      0.42      0.39     40448\n",
      "weighted avg       0.53      0.55      0.52     40448\n",
      "\n"
     ]
    }
   ],
   "source": [
    "print(\"\\nClassification Report:\")\n",
    "print(classification_report(y_test, y_pred, target_names=[\"down\", \"neutral\", \"up\"]))"
   ]
  },
  {
   "cell_type": "code",
   "execution_count": 63,
   "id": "c89db6d7-c0ea-4440-acee-6294d1ec9da1",
   "metadata": {},
   "outputs": [
    {
     "name": "stdout",
     "output_type": "stream",
     "text": [
      "Multiclass Log Loss: 0.9520949800881502\n"
     ]
    }
   ],
   "source": [
    "print(\"Multiclass Log Loss:\", log_loss(y_test_mapped, y_prob))"
   ]
  },
  {
   "cell_type": "markdown",
   "id": "c71cc62a-ab42-4190-8110-2cac5fc3a195",
   "metadata": {},
   "source": [
    "#### Parameter Optimization for M1 advanced"
   ]
  },
  {
   "cell_type": "code",
   "execution_count": 64,
   "id": "4221eda0-f153-4cfe-b76f-2669f9aa4ac4",
   "metadata": {},
   "outputs": [],
   "source": [
    "import optuna"
   ]
  },
  {
   "cell_type": "code",
   "execution_count": 65,
   "id": "3baf93c9-559f-424e-96f4-cd98da5712ef",
   "metadata": {},
   "outputs": [],
   "source": [
    "from sklearn.preprocessing import LabelEncoder"
   ]
  },
  {
   "cell_type": "code",
   "execution_count": 66,
   "id": "27401fef-6bb8-4664-9177-4ec7fc362593",
   "metadata": {},
   "outputs": [],
   "source": [
    "y_mapped = labels.map({-1:0, 0:1, 1:2})\n",
    "\n",
    "X_train, X_val, y_train, y_val = train_test_split(\n",
    "    X, y_mapped, test_size=0.2, random_state=42, shuffle=False\n",
    ")\n",
    "\n",
    "dtrain = xgb.DMatrix(X_train, label=y_train)\n",
    "dval = xgb.DMatrix(X_val, label=y_val)"
   ]
  },
  {
   "cell_type": "code",
   "execution_count": 67,
   "id": "715f2b4f",
   "metadata": {},
   "outputs": [],
   "source": [
    "def objective(trial):\n",
    "    param = {\n",
    "        \"objective\":      \"multi:softprob\",\n",
    "        \"num_class\":      3,\n",
    "        \"eval_metric\":    \"mlogloss\",\n",
    "        \"tree_method\":    \"gpu_hist\",\n",
    "        \"predictor\":      \"gpu_predictor\",\n",
    "        \"verbosity\":      0,\n",
    "        \"eta\":            trial.suggest_float(\"eta\", 0.01, 0.3, log=True),\n",
    "        \"max_depth\":      trial.suggest_int(\"max_depth\", 3, 10),\n",
    "        \"subsample\":      trial.suggest_float(\"subsample\", .5, 1.0),\n",
    "        \"colsample_bytree\": trial.suggest_float(\"colsample_bytree\", .5, 1.0),\n",
    "        \"gamma\":          trial.suggest_float(\"gamma\", 0, 5),\n",
    "        \"alpha\":          trial.suggest_float(\"alpha\", 0, 5),\n",
    "        \"lambda\":         trial.suggest_float(\"lambda\", 0, 5),\n",
    "    }\n",
    "\n",
    "    num_boost = trial.suggest_int(\"n_estimators\", 200, 800)\n",
    "\n",
    "    bst = xgb.train(\n",
    "        param,\n",
    "        dtrain,\n",
    "        num_boost,\n",
    "        evals=[(dval, \"val\")],\n",
    "        early_stopping_rounds=20,\n",
    "        verbose_eval=False\n",
    "    )\n",
    "\n",
    "    preds = bst.predict(dval)\n",
    "    loss  = log_loss(y_val, preds)\n",
    "    return loss"
   ]
  },
  {
   "cell_type": "code",
   "execution_count": 68,
   "id": "f16e788b",
   "metadata": {},
   "outputs": [
    {
     "name": "stderr",
     "output_type": "stream",
     "text": [
      "[I 2025-09-04 20:28:40,867] A new study created in memory with name: no-name-02aabf94-a7f9-4fc6-aaef-0788fe7f457b\n",
      "[I 2025-09-04 20:28:43,496] Trial 0 finished with value: 0.9126743503805396 and parameters: {'eta': 0.05727864561144103, 'max_depth': 3, 'subsample': 0.6597393326600587, 'colsample_bytree': 0.6769459794667884, 'gamma': 1.325469094557718, 'alpha': 1.5399997598333381, 'lambda': 1.385884028174989, 'n_estimators': 479}. Best is trial 0 with value: 0.9126743503805396.\n",
      "[I 2025-09-04 20:28:49,405] Trial 1 finished with value: 0.9115010240695722 and parameters: {'eta': 0.015700691589861673, 'max_depth': 3, 'subsample': 0.6697511480357885, 'colsample_bytree': 0.868446800821784, 'gamma': 0.7223802020220083, 'alpha': 1.5744437160482638, 'lambda': 4.772072296811465, 'n_estimators': 594}. Best is trial 1 with value: 0.9115010240695722.\n",
      "[I 2025-09-04 20:28:50,383] Trial 2 finished with value: 0.9135192900359135 and parameters: {'eta': 0.08818353132740343, 'max_depth': 3, 'subsample': 0.5627833355046723, 'colsample_bytree': 0.7297310716071264, 'gamma': 0.9746944441621841, 'alpha': 2.3809486351072695, 'lambda': 0.7984586698484919, 'n_estimators': 385}. Best is trial 1 with value: 0.9115010240695722.\n",
      "[I 2025-09-04 20:28:52,445] Trial 3 finished with value: 0.914069061107218 and parameters: {'eta': 0.03512739928228195, 'max_depth': 4, 'subsample': 0.5379097724289987, 'colsample_bytree': 0.6459882321482173, 'gamma': 3.5732994433740424, 'alpha': 4.126927279691, 'lambda': 1.019304458246515, 'n_estimators': 490}. Best is trial 1 with value: 0.9115010240695722.\n",
      "[I 2025-09-04 20:28:53,053] Trial 4 finished with value: 0.9279674866159774 and parameters: {'eta': 0.2363583146277353, 'max_depth': 5, 'subsample': 0.6179960670656031, 'colsample_bytree': 0.5302429586730508, 'gamma': 2.243609311997266, 'alpha': 1.124217430973859, 'lambda': 1.277241245353871, 'n_estimators': 621}. Best is trial 1 with value: 0.9115010240695722.\n",
      "[I 2025-09-04 20:28:57,227] Trial 5 finished with value: 0.9237407020784592 and parameters: {'eta': 0.027031687474782237, 'max_depth': 8, 'subsample': 0.8159193775839115, 'colsample_bytree': 0.5525976431322744, 'gamma': 2.589468972023714, 'alpha': 1.8570728672529557, 'lambda': 0.5455099714495365, 'n_estimators': 408}. Best is trial 1 with value: 0.9115010240695722.\n",
      "[I 2025-09-04 20:28:57,895] Trial 6 finished with value: 0.9345531313064318 and parameters: {'eta': 0.17748023062416857, 'max_depth': 6, 'subsample': 0.5716618218708998, 'colsample_bytree': 0.7274327987108018, 'gamma': 1.1838313956777053, 'alpha': 0.5302320706340236, 'lambda': 0.6247922618325169, 'n_estimators': 282}. Best is trial 1 with value: 0.9115010240695722.\n",
      "[I 2025-09-04 20:29:10,554] Trial 7 finished with value: 0.93774261158885 and parameters: {'eta': 0.012328920631105408, 'max_depth': 10, 'subsample': 0.95942477347395, 'colsample_bytree': 0.8536310402575487, 'gamma': 2.6890110021643516, 'alpha': 3.7551611928127073, 'lambda': 0.35937995100643105, 'n_estimators': 296}. Best is trial 1 with value: 0.9115010240695722.\n",
      "[I 2025-09-04 20:29:12,784] Trial 8 finished with value: 0.9400239491540145 and parameters: {'eta': 0.0670006773736165, 'max_depth': 9, 'subsample': 0.9365936159230333, 'colsample_bytree': 0.8338371774958542, 'gamma': 2.282008302171867, 'alpha': 1.4793312917555639, 'lambda': 3.013196052192389, 'n_estimators': 606}. Best is trial 1 with value: 0.9115010240695722.\n",
      "[I 2025-09-04 20:29:15,167] Trial 9 finished with value: 0.9132614547313281 and parameters: {'eta': 0.02249043999533968, 'max_depth': 4, 'subsample': 0.8237551062078416, 'colsample_bytree': 0.9497784616825193, 'gamma': 4.272219350964476, 'alpha': 2.5860154077494997, 'lambda': 1.343548685975127, 'n_estimators': 739}. Best is trial 1 with value: 0.9115010240695722.\n",
      "[I 2025-09-04 20:29:21,251] Trial 10 finished with value: 0.9244835535523929 and parameters: {'eta': 0.0111329852342054, 'max_depth': 7, 'subsample': 0.7074010948185174, 'colsample_bytree': 0.9802346030503808, 'gamma': 0.023144769807689314, 'alpha': 3.276054585345535, 'lambda': 4.812651119695275, 'n_estimators': 764}. Best is trial 1 with value: 0.9115010240695722.\n",
      "[I 2025-09-04 20:29:22,096] Trial 11 finished with value: 0.9135715317739014 and parameters: {'eta': 0.10684653150400654, 'max_depth': 3, 'subsample': 0.6732107675008984, 'colsample_bytree': 0.8283331704298256, 'gamma': 1.0048697143803393, 'alpha': 0.14844390277250152, 'lambda': 2.640687235882693, 'n_estimators': 578}. Best is trial 1 with value: 0.9115010240695722.\n",
      "[I 2025-09-04 20:29:23,501] Trial 12 finished with value: 0.9161587522244656 and parameters: {'eta': 0.042584317823296615, 'max_depth': 5, 'subsample': 0.7655661033389044, 'colsample_bytree': 0.6353023335921726, 'gamma': 0.17819888915312543, 'alpha': 0.925469542844114, 'lambda': 4.7345478281414035, 'n_estimators': 472}. Best is trial 1 with value: 0.9115010240695722.\n",
      "[I 2025-09-04 20:29:26,519] Trial 13 finished with value: 0.9122943631631476 and parameters: {'eta': 0.018679145306001666, 'max_depth': 3, 'subsample': 0.647856550966991, 'colsample_bytree': 0.899392636672294, 'gamma': 1.5911103257467831, 'alpha': 2.4711341083576754, 'lambda': 3.637354104390935, 'n_estimators': 673}. Best is trial 1 with value: 0.9115010240695722.\n",
      "[I 2025-09-04 20:29:29,367] Trial 14 finished with value: 0.9153489264779617 and parameters: {'eta': 0.017002238912920374, 'max_depth': 5, 'subsample': 0.5018177377711576, 'colsample_bytree': 0.8913050309521507, 'gamma': 0.6243571899803548, 'alpha': 2.867658852899687, 'lambda': 3.8651800527753535, 'n_estimators': 685}. Best is trial 1 with value: 0.9115010240695722.\n",
      "[I 2025-09-04 20:29:32,612] Trial 15 finished with value: 0.9122637963718333 and parameters: {'eta': 0.016133302445149312, 'max_depth': 4, 'subsample': 0.7659150807415788, 'colsample_bytree': 0.9063313265968825, 'gamma': 1.6309165249518054, 'alpha': 2.1038506311181187, 'lambda': 3.793367099263969, 'n_estimators': 681}. Best is trial 1 with value: 0.9115010240695722.\n",
      "[I 2025-09-04 20:29:37,006] Trial 16 finished with value: 0.9119703117994323 and parameters: {'eta': 0.010108633029835256, 'max_depth': 4, 'subsample': 0.7545750405599256, 'colsample_bytree': 0.7945526325893483, 'gamma': 1.6666642686719508, 'alpha': 4.597823130224539, 'lambda': 4.0530523376698335, 'n_estimators': 797}. Best is trial 1 with value: 0.9115010240695722.\n",
      "[I 2025-09-04 20:29:40,600] Trial 17 finished with value: 0.9213014431936365 and parameters: {'eta': 0.011039761180663764, 'max_depth': 6, 'subsample': 0.8671942784122848, 'colsample_bytree': 0.7692705780459073, 'gamma': 3.2412380691621405, 'alpha': 4.964655434658639, 'lambda': 4.324760768394818, 'n_estimators': 213}. Best is trial 1 with value: 0.9115010240695722.\n",
      "[I 2025-09-04 20:29:42,936] Trial 18 finished with value: 0.9256189800101063 and parameters: {'eta': 0.03247393222248543, 'max_depth': 7, 'subsample': 0.702698351065442, 'colsample_bytree': 0.8077554581891113, 'gamma': 1.8801431767812364, 'alpha': 4.869087657433139, 'lambda': 2.041843642704425, 'n_estimators': 786}. Best is trial 1 with value: 0.9115010240695722.\n",
      "[I 2025-09-04 20:29:46,414] Trial 19 finished with value: 0.9121798525967707 and parameters: {'eta': 0.014709498427876314, 'max_depth': 4, 'subsample': 0.8803853723949904, 'colsample_bytree': 0.7755770480649437, 'gamma': 4.813531442458446, 'alpha': 3.76810846411364, 'lambda': 3.3406632393176405, 'n_estimators': 544}. Best is trial 1 with value: 0.9115010240695722.\n",
      "[I 2025-09-04 20:29:48,636] Trial 20 finished with value: 0.9151410655156147 and parameters: {'eta': 0.02418372914112377, 'max_depth': 5, 'subsample': 0.7318576361633736, 'colsample_bytree': 0.9939531877139889, 'gamma': 0.6292167605460353, 'alpha': 4.260015590073633, 'lambda': 4.311695186454042, 'n_estimators': 702}. Best is trial 1 with value: 0.9115010240695722.\n",
      "[I 2025-09-04 20:29:53,533] Trial 21 finished with value: 0.9126683246153733 and parameters: {'eta': 0.014128856257728284, 'max_depth': 4, 'subsample': 0.9036572655873133, 'colsample_bytree': 0.7694815690342395, 'gamma': 4.875215424661684, 'alpha': 3.4674843233343884, 'lambda': 3.371406161356752, 'n_estimators': 554}. Best is trial 1 with value: 0.9115010240695722.\n",
      "[I 2025-09-04 20:29:59,901] Trial 22 finished with value: 0.9119978149458664 and parameters: {'eta': 0.010023200246854208, 'max_depth': 4, 'subsample': 0.8202499293472243, 'colsample_bytree': 0.7890907486998895, 'gamma': 3.5889463211198107, 'alpha': 4.41424421277312, 'lambda': 4.299285344358182, 'n_estimators': 546}. Best is trial 1 with value: 0.9115010240695722.\n"
     ]
    },
    {
     "name": "stderr",
     "output_type": "stream",
     "text": [
      "[I 2025-09-04 20:30:05,390] Trial 23 finished with value: 0.9121297621465179 and parameters: {'eta': 0.010468287096777575, 'max_depth': 3, 'subsample': 0.8025285882963433, 'colsample_bytree': 0.8716181694985727, 'gamma': 3.282265542379947, 'alpha': 4.213515165980959, 'lambda': 4.980958496094629, 'n_estimators': 427}. Best is trial 1 with value: 0.9115010240695722.\n",
      "[I 2025-09-04 20:30:09,650] Trial 24 finished with value: 0.9169100597066316 and parameters: {'eta': 0.019760375277894017, 'max_depth': 6, 'subsample': 0.6152239499211808, 'colsample_bytree': 0.6946102611412481, 'gamma': 4.112566513405932, 'alpha': 4.643337794155991, 'lambda': 4.302656687328093, 'n_estimators': 633}. Best is trial 1 with value: 0.9115010240695722.\n",
      "[I 2025-09-04 20:30:14,493] Trial 25 finished with value: 0.9122263218571682 and parameters: {'eta': 0.013595577907837846, 'max_depth': 4, 'subsample': 0.7816850680157579, 'colsample_bytree': 0.936545075700218, 'gamma': 2.867158739006119, 'alpha': 4.6073965321283525, 'lambda': 4.13995410065257, 'n_estimators': 528}. Best is trial 1 with value: 0.9115010240695722.\n",
      "[I 2025-09-04 20:30:16,798] Trial 26 finished with value: 0.915678009079742 and parameters: {'eta': 0.028959761482477593, 'max_depth': 5, 'subsample': 0.850009818367262, 'colsample_bytree': 0.7867672661173026, 'gamma': 3.88623421755836, 'alpha': 3.3601942094487023, 'lambda': 4.580181132734474, 'n_estimators': 339}. Best is trial 1 with value: 0.9115010240695722.\n",
      "[I 2025-09-04 20:30:22,219] Trial 27 finished with value: 0.9116290266789993 and parameters: {'eta': 0.01082089354818617, 'max_depth': 3, 'subsample': 0.7146688958743893, 'colsample_bytree': 0.8070062102266995, 'gamma': 1.7661234440188593, 'alpha': 2.8756836257975995, 'lambda': 2.1988026028339136, 'n_estimators': 732}. Best is trial 1 with value: 0.9115010240695722.\n",
      "[I 2025-09-04 20:30:23,870] Trial 28 finished with value: 0.9121885281735036 and parameters: {'eta': 0.045135364986441426, 'max_depth': 3, 'subsample': 0.7142940698616036, 'colsample_bytree': 0.8538044807302377, 'gamma': 0.511524597625401, 'alpha': 2.8667098669271622, 'lambda': 2.104140361588124, 'n_estimators': 797}. Best is trial 1 with value: 0.9115010240695722.\n",
      "[I 2025-09-04 20:30:26,924] Trial 29 finished with value: 0.9115638480654001 and parameters: {'eta': 0.017167909001404302, 'max_depth': 3, 'subsample': 0.6786835111303555, 'colsample_bytree': 0.6830666451903357, 'gamma': 1.8773245443916298, 'alpha': 1.4437025153342198, 'lambda': 1.9746395059960387, 'n_estimators': 730}. Best is trial 1 with value: 0.9115010240695722.\n"
     ]
    },
    {
     "name": "stdout",
     "output_type": "stream",
     "text": [
      "Best params: {'eta': 0.015700691589861673, 'max_depth': 3, 'subsample': 0.6697511480357885, 'colsample_bytree': 0.868446800821784, 'gamma': 0.7223802020220083, 'alpha': 1.5744437160482638, 'lambda': 4.772072296811465, 'n_estimators': 594}\n"
     ]
    }
   ],
   "source": [
    "study = optuna.create_study(direction=\"minimize\")\n",
    "study.optimize(objective, n_trials=30)\n",
    "print(\"Best params:\", study.best_trial.params)"
   ]
  },
  {
   "cell_type": "code",
   "execution_count": 69,
   "id": "3be7e7c4",
   "metadata": {},
   "outputs": [],
   "source": [
    "the_200_trail_best_params = {'eta': 0.012680711502557862, 'max_depth': 3, 'subsample': 0.8841954778507377, 'colsample_bytree': 0.7994575520433568, 'gamma': 4.424146226872127, 'alpha': 3.391444881619674, 'lambda': 1.4097101241365753, 'n_estimators': 473}\n",
    "# loss value was 0.9100287748362601"
   ]
  },
  {
   "cell_type": "markdown",
   "id": "4e190804",
   "metadata": {},
   "source": [
    "#### Training M1 advanced on optimal parameters"
   ]
  },
  {
   "cell_type": "code",
   "execution_count": 70,
   "id": "e304689e",
   "metadata": {},
   "outputs": [],
   "source": [
    "n = len(X)\n",
    "train_sz = int(n * 0.80)\n",
    "\n",
    "X_train, y_train = X.iloc[:train_sz], labels.iloc[:train_sz]\n",
    "X_test,  y_test  = X.iloc[train_sz:], labels.iloc[train_sz:]"
   ]
  },
  {
   "cell_type": "code",
   "execution_count": 71,
   "id": "7496ec6d",
   "metadata": {},
   "outputs": [],
   "source": [
    "label_map = {-1: 0, 0: 1, 1: 2}\n",
    "y_train_mapped = y_train.map(label_map)\n",
    "y_test_mapped  = y_test.map(label_map)"
   ]
  },
  {
   "cell_type": "code",
   "execution_count": 72,
   "id": "b874099c",
   "metadata": {},
   "outputs": [],
   "source": [
    "dtrain = xgb.DMatrix(X_train, label=y_train_mapped)\n",
    "dtest = xgb.DMatrix(X_test, label=y_test_mapped)"
   ]
  },
  {
   "cell_type": "code",
   "execution_count": 73,
   "id": "4a0cd744",
   "metadata": {},
   "outputs": [],
   "source": [
    "the_200_trail_best_params.update({\n",
    "    \"objective\": \"multi:softprob\",\n",
    "    \"num_class\": 3,\n",
    "    \"eval_metric\": \"mlogloss\",\n",
    "    \"tree_method\": \"gpu_hist\",\n",
    "    \"predictor\": \"gpu_predictor\",\n",
    "    \"verbosity\": 1,\n",
    "    \"seed\": 42\n",
    "})"
   ]
  },
  {
   "cell_type": "code",
   "execution_count": 74,
   "id": "ab580918",
   "metadata": {},
   "outputs": [
    {
     "data": {
      "text/plain": [
       "{'eta': 0.012680711502557862,\n",
       " 'max_depth': 3,\n",
       " 'subsample': 0.8841954778507377,\n",
       " 'colsample_bytree': 0.7994575520433568,\n",
       " 'gamma': 4.424146226872127,\n",
       " 'alpha': 3.391444881619674,\n",
       " 'lambda': 1.4097101241365753,\n",
       " 'n_estimators': 473,\n",
       " 'objective': 'multi:softprob',\n",
       " 'num_class': 3,\n",
       " 'eval_metric': 'mlogloss',\n",
       " 'tree_method': 'gpu_hist',\n",
       " 'predictor': 'gpu_predictor',\n",
       " 'verbosity': 1,\n",
       " 'seed': 42}"
      ]
     },
     "execution_count": 74,
     "metadata": {},
     "output_type": "execute_result"
    }
   ],
   "source": [
    "the_200_trail_best_params"
   ]
  },
  {
   "cell_type": "code",
   "execution_count": 75,
   "id": "a9469a53",
   "metadata": {},
   "outputs": [
    {
     "name": "stdout",
     "output_type": "stream",
     "text": [
      "[0]\ttest-mlogloss:1.09555\n"
     ]
    },
    {
     "name": "stderr",
     "output_type": "stream",
     "text": [
      "C:\\Users\\prajj\\anaconda3\\lib\\site-packages\\xgboost\\core.py:158: UserWarning: [20:30:27] WARNING: C:\\buildkite-agent\\builds\\buildkite-windows-cpu-autoscaling-group-i-08cbc0333d8d4aae1-1\\xgboost\\xgboost-ci-windows\\src\\common\\error_msg.cc:27: The tree method `gpu_hist` is deprecated since 2.0.0. To use GPU training, set the `device` parameter to CUDA instead.\n",
      "\n",
      "    E.g. tree_method = \"hist\", device = \"cuda\"\n",
      "\n",
      "  warnings.warn(smsg, UserWarning)\n",
      "C:\\Users\\prajj\\anaconda3\\lib\\site-packages\\xgboost\\core.py:158: UserWarning: [20:30:27] WARNING: C:\\buildkite-agent\\builds\\buildkite-windows-cpu-autoscaling-group-i-08cbc0333d8d4aae1-1\\xgboost\\xgboost-ci-windows\\src\\learner.cc:740: \n",
      "Parameters: { \"n_estimators\", \"predictor\" } are not used.\n",
      "\n",
      "  warnings.warn(smsg, UserWarning)\n"
     ]
    },
    {
     "name": "stdout",
     "output_type": "stream",
     "text": [
      "[50]\ttest-mlogloss:0.99563\n",
      "[100]\ttest-mlogloss:0.95118\n",
      "[150]\ttest-mlogloss:0.93054\n",
      "[200]\ttest-mlogloss:0.92054\n",
      "[250]\ttest-mlogloss:0.91530\n",
      "[300]\ttest-mlogloss:0.91228\n",
      "[350]\ttest-mlogloss:0.91142\n",
      "[400]\ttest-mlogloss:0.91098\n",
      "[417]\ttest-mlogloss:0.91109\n"
     ]
    }
   ],
   "source": [
    "final_model = xgb.train(\n",
    "    params= the_200_trail_best_params,\n",
    "    dtrain=dtrain,\n",
    "    num_boost_round=800,\n",
    "    evals=[(dtest, \"test\")],\n",
    "    early_stopping_rounds=20,\n",
    "    verbose_eval=50\n",
    ")"
   ]
  },
  {
   "cell_type": "code",
   "execution_count": 76,
   "id": "bf2d214c",
   "metadata": {},
   "outputs": [],
   "source": [
    "y_prob = model.predict(dtest)\n",
    "y_pred_mapped = np.argmax(y_prob, axis=1)\n",
    "inverse_map = {0: -1, 1: 0, 2: 1}\n",
    "y_pred = pd.Series(y_pred_mapped).map(inverse_map)"
   ]
  },
  {
   "cell_type": "code",
   "execution_count": 77,
   "id": "9983c9e7",
   "metadata": {},
   "outputs": [
    {
     "name": "stdout",
     "output_type": "stream",
     "text": [
      "Confusion Matrix:\n",
      "[[15073    71  9389]\n",
      " [ 2989    37  3205]\n",
      " [ 7589    75 15502]]\n"
     ]
    }
   ],
   "source": [
    "print(\"Confusion Matrix:\")\n",
    "print(confusion_matrix(y_test, y_pred, labels=[-1, 0, 1]))"
   ]
  },
  {
   "cell_type": "code",
   "execution_count": 78,
   "id": "1f66456e",
   "metadata": {},
   "outputs": [
    {
     "name": "stdout",
     "output_type": "stream",
     "text": [
      "\n",
      "Classification Report:\n",
      "              precision    recall  f1-score   support\n",
      "\n",
      "        down       0.59      0.61      0.60     24533\n",
      "     neutral       0.20      0.01      0.01      6231\n",
      "          up       0.55      0.67      0.60     23166\n",
      "\n",
      "    accuracy                           0.57     53930\n",
      "   macro avg       0.45      0.43      0.41     53930\n",
      "weighted avg       0.53      0.57      0.53     53930\n",
      "\n"
     ]
    }
   ],
   "source": [
    "print(\"\\nClassification Report:\")\n",
    "print(classification_report(y_test, y_pred, target_names=[\"down\", \"neutral\", \"up\"]))"
   ]
  },
  {
   "cell_type": "code",
   "execution_count": 79,
   "id": "cf0ed960",
   "metadata": {},
   "outputs": [
    {
     "name": "stdout",
     "output_type": "stream",
     "text": [
      "Multiclass Log Loss: 0.9319435890314033\n"
     ]
    }
   ],
   "source": [
    "print(\"Multiclass Log Loss:\", log_loss(y_test_mapped, y_prob))"
   ]
  },
  {
   "cell_type": "markdown",
   "id": "c85d480a",
   "metadata": {},
   "source": [
    "## Class weighting of the data"
   ]
  },
  {
   "cell_type": "code",
   "execution_count": 80,
   "id": "ba6c42b3",
   "metadata": {},
   "outputs": [],
   "source": [
    "from collections import Counter"
   ]
  },
  {
   "cell_type": "code",
   "execution_count": 81,
   "id": "5c7333b3",
   "metadata": {},
   "outputs": [],
   "source": [
    "freq = Counter(y_train)\n",
    "total = len(y_train)"
   ]
  },
  {
   "cell_type": "code",
   "execution_count": 82,
   "id": "8e18f4af",
   "metadata": {},
   "outputs": [],
   "source": [
    "weights = {c: total/(len(freq)*n) for c, n in freq.items()}"
   ]
  },
  {
   "cell_type": "code",
   "execution_count": 83,
   "id": "7e959412",
   "metadata": {},
   "outputs": [
    {
     "data": {
      "text/plain": [
       "{1: 0.8001735975874387, 0: 2.5105090426646184, -1: 0.7396747348605639}"
      ]
     },
     "execution_count": 83,
     "metadata": {},
     "output_type": "execute_result"
    }
   ],
   "source": [
    "weights"
   ]
  },
  {
   "cell_type": "code",
   "execution_count": 84,
   "id": "721909cc",
   "metadata": {},
   "outputs": [],
   "source": [
    "tr_weights = pd.Series(y_train).map(weights)"
   ]
  },
  {
   "cell_type": "code",
   "execution_count": 85,
   "id": "81c66b38",
   "metadata": {},
   "outputs": [
    {
     "data": {
      "text/plain": [
       "0         0.800174\n",
       "1         0.800174\n",
       "2         0.800174\n",
       "3         0.800174\n",
       "4         0.800174\n",
       "            ...   \n",
       "215713    0.800174\n",
       "215714    0.739675\n",
       "215715    0.739675\n",
       "215716    0.739675\n",
       "215717    0.739675\n",
       "Length: 215718, dtype: float64"
      ]
     },
     "execution_count": 85,
     "metadata": {},
     "output_type": "execute_result"
    }
   ],
   "source": [
    "tr_weights"
   ]
  },
  {
   "cell_type": "code",
   "execution_count": 86,
   "id": "8d208652",
   "metadata": {},
   "outputs": [],
   "source": [
    "d2_train = xgb.DMatrix(X_train, label=y_train_mapped, weight=tr_weights)\n",
    "d2_test = xgb.DMatrix(X_test, label=y_test_mapped)"
   ]
  },
  {
   "cell_type": "code",
   "execution_count": 87,
   "id": "7e9e0057",
   "metadata": {},
   "outputs": [],
   "source": [
    "the_200_trail_best_params = {'eta': 0.012680711502557862, 'max_depth': 3, 'subsample': 0.8841954778507377, 'colsample_bytree': 0.7994575520433568, 'gamma': 4.424146226872127, 'alpha': 3.391444881619674, 'lambda': 1.4097101241365753}"
   ]
  },
  {
   "cell_type": "code",
   "execution_count": 88,
   "id": "106987e5",
   "metadata": {},
   "outputs": [],
   "source": [
    "the_200_trail_best_params.update({\n",
    "    \"objective\": \"multi:softprob\",\n",
    "    \"num_class\" : 3,\n",
    "    \"eval_metric\": \"mlogloss\",\n",
    "    \"tree_method\": \"hist\",\n",
    "    \"device\"     : \"cuda\",\n",
    "    \"seed\"       : 42,\n",
    "    \"verbosity\"  : 1\n",
    "})"
   ]
  },
  {
   "cell_type": "code",
   "execution_count": 89,
   "id": "6855b540",
   "metadata": {},
   "outputs": [
    {
     "data": {
      "text/plain": [
       "{'eta': 0.012680711502557862,\n",
       " 'max_depth': 3,\n",
       " 'subsample': 0.8841954778507377,\n",
       " 'colsample_bytree': 0.7994575520433568,\n",
       " 'gamma': 4.424146226872127,\n",
       " 'alpha': 3.391444881619674,\n",
       " 'lambda': 1.4097101241365753,\n",
       " 'objective': 'multi:softprob',\n",
       " 'num_class': 3,\n",
       " 'eval_metric': 'mlogloss',\n",
       " 'tree_method': 'hist',\n",
       " 'device': 'cuda',\n",
       " 'seed': 42,\n",
       " 'verbosity': 1}"
      ]
     },
     "execution_count": 89,
     "metadata": {},
     "output_type": "execute_result"
    }
   ],
   "source": [
    "the_200_trail_best_params"
   ]
  },
  {
   "cell_type": "code",
   "execution_count": 90,
   "id": "262e093c",
   "metadata": {},
   "outputs": [
    {
     "name": "stdout",
     "output_type": "stream",
     "text": [
      "[0]\ttest-mlogloss:1.09766\n",
      "[50]\ttest-mlogloss:1.06270\n",
      "[100]\ttest-mlogloss:1.04560\n",
      "[150]\ttest-mlogloss:1.03707\n",
      "[200]\ttest-mlogloss:1.03115\n",
      "[250]\ttest-mlogloss:1.02715\n",
      "[300]\ttest-mlogloss:1.02370\n",
      "[350]\ttest-mlogloss:1.02050\n",
      "[400]\ttest-mlogloss:1.01919\n",
      "[432]\ttest-mlogloss:1.01893\n"
     ]
    }
   ],
   "source": [
    "final = xgb.train(\n",
    "    the_200_trail_best_params,\n",
    "    dtrain = d2_train,\n",
    "    num_boost_round=800,\n",
    "    evals=[(d2_test, \"test\")],\n",
    "    early_stopping_rounds=20,\n",
    "    verbose_eval=50\n",
    ")"
   ]
  },
  {
   "cell_type": "code",
   "execution_count": 91,
   "id": "6da57efb",
   "metadata": {},
   "outputs": [
    {
     "name": "stdout",
     "output_type": "stream",
     "text": [
      "[[12416  5100  7017]\n",
      " [ 2385  1427  2419]\n",
      " [ 5743  4560 12863]]\n",
      "              precision    recall  f1-score   support\n",
      "\n",
      "        down       0.60      0.51      0.55     24533\n",
      "     neutral       0.13      0.23      0.16      6231\n",
      "          up       0.58      0.56      0.57     23166\n",
      "\n",
      "    accuracy                           0.50     53930\n",
      "   macro avg       0.44      0.43      0.43     53930\n",
      "weighted avg       0.54      0.50      0.51     53930\n",
      "\n",
      "Log-loss: 1.0189309972012417\n"
     ]
    }
   ],
   "source": [
    "proba = final.predict(d2_test)\n",
    "pred  = proba.argmax(axis=1)\n",
    "print(confusion_matrix(y_test_mapped, pred))\n",
    "print(classification_report(y_test_mapped, pred, target_names=[\"down\",\"neutral\",\"up\"]))\n",
    "print(\"Log-loss:\", log_loss(y_test_mapped, proba))"
   ]
  },
  {
   "cell_type": "markdown",
   "id": "609f0005",
   "metadata": {},
   "source": [
    "### Confidence thresholding for predictions of up or down"
   ]
  },
  {
   "cell_type": "code",
   "execution_count": 92,
   "id": "ec4297a0",
   "metadata": {},
   "outputs": [],
   "source": [
    "from sklearn.metrics import f1_score"
   ]
  },
  {
   "cell_type": "code",
   "execution_count": 93,
   "id": "7fd4c1ca",
   "metadata": {},
   "outputs": [
    {
     "data": {
      "text/plain": [
       "array([[0.27123365, 0.34325206, 0.3855143 ],\n",
       "       [0.27002156, 0.34382296, 0.38615546],\n",
       "       [0.27002156, 0.34382296, 0.38615546],\n",
       "       ...,\n",
       "       [0.24887885, 0.28123146, 0.4698897 ],\n",
       "       [0.24428135, 0.28295285, 0.47276586],\n",
       "       [0.24428135, 0.28295285, 0.47276586]], dtype=float32)"
      ]
     },
     "execution_count": 93,
     "metadata": {},
     "output_type": "execute_result"
    }
   ],
   "source": [
    "proba"
   ]
  },
  {
   "cell_type": "code",
   "execution_count": 94,
   "id": "e2c73fb1",
   "metadata": {},
   "outputs": [],
   "source": [
    "def apply_threshold(prob_mat, neutral_thresh):\n",
    "    maxprob = prob_mat.max(axis=1)\n",
    "    argmax  = prob_mat.argmax(axis=1)\n",
    "    pred    = np.where(maxprob < neutral_thresh, 1, argmax)\n",
    "    return pred"
   ]
  },
  {
   "cell_type": "code",
   "execution_count": 95,
   "id": "15838e6b",
   "metadata": {},
   "outputs": [],
   "source": [
    "th_grid   = np.linspace(0.33, 0.80, 20)\n",
    "best_f1   = -1\n",
    "best_th   = None"
   ]
  },
  {
   "cell_type": "code",
   "execution_count": 96,
   "id": "a2107745",
   "metadata": {},
   "outputs": [],
   "source": [
    "for th in th_grid:\n",
    "    pred = apply_threshold(proba, th)\n",
    "    f1   = f1_score(y_test_mapped, pred, average=\"macro\")\n",
    "    if f1 > best_f1:\n",
    "        best_f1, best_th = f1, th"
   ]
  },
  {
   "cell_type": "code",
   "execution_count": 97,
   "id": "6b74382f",
   "metadata": {},
   "outputs": [
    {
     "name": "stdout",
     "output_type": "stream",
     "text": [
      "Best neutral threshold = 0.35  → macro-F1 = 0.429\n"
     ]
    }
   ],
   "source": [
    "print(f\"Best neutral threshold = {best_th:.2f}  → macro-F1 = {best_f1:.3f}\")"
   ]
  },
  {
   "cell_type": "code",
   "execution_count": 98,
   "id": "face458c",
   "metadata": {},
   "outputs": [
    {
     "name": "stdout",
     "output_type": "stream",
     "text": [
      "[[12024  5764  6745]\n",
      " [ 2207  1703  2321]\n",
      " [ 5432  5130 12604]]\n",
      "              precision    recall  f1-score   support\n",
      "\n",
      "        down       0.61      0.49      0.54     24533\n",
      "     neutral       0.14      0.27      0.18      6231\n",
      "          up       0.58      0.54      0.56     23166\n",
      "\n",
      "    accuracy                           0.49     53930\n",
      "   macro avg       0.44      0.44      0.43     53930\n",
      "weighted avg       0.54      0.49      0.51     53930\n",
      "\n"
     ]
    }
   ],
   "source": [
    "pred_final = apply_threshold(proba, best_th)\n",
    "print(confusion_matrix(y_test_mapped, pred_final))\n",
    "print(classification_report(y_test_mapped, pred_final,\n",
    "                            target_names=[\"down\",\"neutral\",\"up\"]))"
   ]
  },
  {
   "cell_type": "markdown",
   "id": "1f294815",
   "metadata": {},
   "source": [
    "#### Changing thresholding to be down risk averse and represent real world financial market needs"
   ]
  },
  {
   "cell_type": "code",
   "execution_count": 99,
   "id": "28ffabe5",
   "metadata": {},
   "outputs": [],
   "source": [
    "def realistic_thresholding(pmatrix, t_down, t_up, margin):\n",
    "    preds = []\n",
    "    for p in pmatrix:\n",
    "        p_d, p_n, p_u = p\n",
    "        if p_d > t_down and p_d > p_u + margin:\n",
    "            preds.append(0)\n",
    "        elif p_u > t_up and p_u > p_d + margin:\n",
    "            preds.append(2)\n",
    "        else:\n",
    "            preds.append(1)\n",
    "    \n",
    "    return np.array(preds)"
   ]
  },
  {
   "cell_type": "code",
   "execution_count": 100,
   "id": "d17ce040",
   "metadata": {},
   "outputs": [
    {
     "name": "stdout",
     "output_type": "stream",
     "text": [
      "[[12703  6477  5353]\n",
      " [ 2336  1998  1897]\n",
      " [ 5573  6645 10948]]\n",
      "              precision    recall  f1-score   support\n",
      "\n",
      "        down       0.62      0.52      0.56     24533\n",
      "     neutral       0.13      0.32      0.19      6231\n",
      "          up       0.60      0.47      0.53     23166\n",
      "\n",
      "    accuracy                           0.48     53930\n",
      "   macro avg       0.45      0.44      0.43     53930\n",
      "weighted avg       0.55      0.48      0.51     53930\n",
      "\n"
     ]
    }
   ],
   "source": [
    "pred_fin = realistic_thresholding(proba, t_down=0.35, t_up=0.4, margin=0.05)\n",
    "\n",
    "print(confusion_matrix(y_test_mapped, pred_fin))\n",
    "print(classification_report(y_test_mapped, pred_fin, target_names=[\"down\", \"neutral\", \"up\"]))"
   ]
  },
  {
   "cell_type": "markdown",
   "id": "1c6b22ab",
   "metadata": {},
   "source": [
    "## Changing to binary classification for better accuracy"
   ]
  },
  {
   "cell_type": "code",
   "execution_count": 101,
   "id": "aaa03d42",
   "metadata": {},
   "outputs": [],
   "source": [
    "binary_labels = labels.map({-1:0, 0:1, 1:1})"
   ]
  },
  {
   "cell_type": "code",
   "execution_count": 102,
   "id": "ba1d0319",
   "metadata": {},
   "outputs": [
    {
     "data": {
      "text/plain": [
       "0         1\n",
       "1         1\n",
       "2         1\n",
       "3         1\n",
       "4         1\n",
       "         ..\n",
       "269643    0\n",
       "269644    0\n",
       "269645    0\n",
       "269646    0\n",
       "269647    0\n",
       "Length: 269648, dtype: int64"
      ]
     },
     "execution_count": 102,
     "metadata": {},
     "output_type": "execute_result"
    }
   ],
   "source": [
    "binary_labels"
   ]
  },
  {
   "cell_type": "code",
   "execution_count": 103,
   "id": "bc267a4b",
   "metadata": {},
   "outputs": [],
   "source": [
    "X_train_bin, X_test_bin, y_train_bin, y_test_bin = train_test_split(\n",
    "    X, binary_labels, test_size=0.2, shuffle=False)"
   ]
  },
  {
   "cell_type": "code",
   "execution_count": 104,
   "id": "dbbf85d2",
   "metadata": {},
   "outputs": [],
   "source": [
    "from collections import Counter\n",
    "class_counts = Counter(y_train_bin)\n",
    "total = len(y_train_bin)\n",
    "weights = {cls: total / (2 * count) for cls, count in class_counts.items()}\n",
    "sample_weights = y_train_bin.map(weights)"
   ]
  },
  {
   "cell_type": "code",
   "execution_count": 105,
   "id": "9a6dc3e5",
   "metadata": {},
   "outputs": [],
   "source": [
    "dtrain = xgb.DMatrix(X_train_bin, label=y_train_bin, weight=sample_weights)\n",
    "dtest  = xgb.DMatrix(X_test_bin,  label=y_test_bin)"
   ]
  },
  {
   "cell_type": "code",
   "execution_count": 106,
   "id": "debdf730",
   "metadata": {},
   "outputs": [],
   "source": [
    "params = {\n",
    "    \"objective\": \"binary:logistic\",\n",
    "    \"eval_metric\": \"logloss\",\n",
    "    \"tree_method\": \"hist\",\n",
    "    \"device\": \"cuda\",\n",
    "    \"eta\": 0.05,\n",
    "    \"max_depth\": 4,\n",
    "    \"subsample\": 0.8,\n",
    "    \"colsample_bytree\": 0.8,\n",
    "    \"seed\": 42\n",
    "}"
   ]
  },
  {
   "cell_type": "code",
   "execution_count": 107,
   "id": "fff5f020",
   "metadata": {},
   "outputs": [
    {
     "name": "stdout",
     "output_type": "stream",
     "text": [
      "[0]\ttest-logloss:0.68843\n",
      "[25]\ttest-logloss:0.64163\n",
      "[50]\ttest-logloss:0.63874\n",
      "[59]\ttest-logloss:0.63922\n"
     ]
    }
   ],
   "source": [
    "model_bin = xgb.train(\n",
    "    params=params,\n",
    "    dtrain=dtrain,\n",
    "    num_boost_round=500,\n",
    "    evals=[(dtest, \"test\")],\n",
    "    early_stopping_rounds=20,\n",
    "    verbose_eval=25\n",
    ")"
   ]
  },
  {
   "cell_type": "code",
   "execution_count": 108,
   "id": "a7fcc53f",
   "metadata": {},
   "outputs": [],
   "source": [
    "proba_bin = model_bin.predict(dtest)\n",
    "pred_bin  = (proba_bin > 0.5).astype(int)"
   ]
  },
  {
   "cell_type": "code",
   "execution_count": 109,
   "id": "445eaa32",
   "metadata": {},
   "outputs": [],
   "source": [
    "from sklearn.metrics import roc_auc_score"
   ]
  },
  {
   "cell_type": "code",
   "execution_count": 110,
   "id": "38979825",
   "metadata": {},
   "outputs": [
    {
     "name": "stdout",
     "output_type": "stream",
     "text": [
      "[[15583  8950]\n",
      " [11138 18259]]\n",
      "              precision    recall  f1-score   support\n",
      "\n",
      "        down       0.58      0.64      0.61     24533\n",
      "    not-down       0.67      0.62      0.65     29397\n",
      "\n",
      "    accuracy                           0.63     53930\n",
      "   macro avg       0.63      0.63      0.63     53930\n",
      "weighted avg       0.63      0.63      0.63     53930\n",
      "\n",
      "ROC AUC: 0.6799769158923143\n"
     ]
    }
   ],
   "source": [
    "print(confusion_matrix(y_test_bin, pred_bin))\n",
    "print(classification_report(y_test_bin, pred_bin, target_names=[\"down\", \"not-down\"]))\n",
    "print(\"ROC AUC:\", roc_auc_score(y_test_bin, proba_bin))"
   ]
  },
  {
   "cell_type": "code",
   "execution_count": 111,
   "id": "27eaf285",
   "metadata": {},
   "outputs": [],
   "source": [
    "def objective2(trial):\n",
    "    param = {\n",
    "        \"objective\":      \"binary:logistic\",\n",
    "        \"eval_metric\":    \"logloss\",\n",
    "        \"tree_method\":    \"gpu_hist\",\n",
    "        \"device\":      \"cuda\",\n",
    "        \"verbosity\":      0,\n",
    "        \"eta\":            trial.suggest_float(\"eta\", 0.01, 0.3, log=True),\n",
    "        \"max_depth\":      trial.suggest_int(\"max_depth\", 3, 10),\n",
    "        \"subsample\":      trial.suggest_float(\"subsample\", 0.5, 1.0),\n",
    "        \"colsample_bytree\": trial.suggest_float(\"colsample_bytree\", 0.5, 1.0),\n",
    "        \"gamma\":          trial.suggest_float(\"gamma\", 0, 5),\n",
    "        \"alpha\":          trial.suggest_float(\"alpha\", 0, 5),\n",
    "        \"lambda\":         trial.suggest_float(\"lambda\", 0, 5),\n",
    "        \"seed\": 42,\n",
    "        \"verbosity\": 0\n",
    "    }\n",
    "\n",
    "    num_round = trial.suggest_int(\"n_round\", 300, 1000)\n",
    "\n",
    "    bst = xgb.train(\n",
    "        param,\n",
    "        dtrain,\n",
    "        num_boost_round = num_round,\n",
    "        evals=[(dtest, \"test\")],\n",
    "        early_stopping_rounds=30,\n",
    "        verbose_eval=False\n",
    "    )\n",
    "\n",
    "    preds = bst.predict(dtest)\n",
    "    loss  = log_loss(y_test_bin, preds)\n",
    "    return loss"
   ]
  },
  {
   "cell_type": "code",
   "execution_count": 112,
   "id": "474fd4c9",
   "metadata": {},
   "outputs": [
    {
     "name": "stderr",
     "output_type": "stream",
     "text": [
      "[I 2025-09-04 20:30:39,949] A new study created in memory with name: no-name-87f8688c-2daa-400f-8c50-173216e5a744\n"
     ]
    },
    {
     "data": {
      "application/vnd.jupyter.widget-view+json": {
       "model_id": "97eaf111fbed4538a2db97c167fa613f",
       "version_major": 2,
       "version_minor": 0
      },
      "text/plain": [
       "  0%|          | 0/30 [00:00<?, ?it/s]"
      ]
     },
     "metadata": {},
     "output_type": "display_data"
    },
    {
     "name": "stdout",
     "output_type": "stream",
     "text": [
      "[I 2025-09-04 20:30:41,555] Trial 0 finished with value: 0.6402117975449318 and parameters: {'eta': 0.013521035985330597, 'max_depth': 6, 'subsample': 0.9355804751649287, 'colsample_bytree': 0.569250743621021, 'gamma': 3.5413415056219932, 'alpha': 4.102059382800994, 'lambda': 0.49898538015993255, 'n_round': 727}. Best is trial 0 with value: 0.6402117975449318.\n",
      "[I 2025-09-04 20:30:42,159] Trial 1 finished with value: 0.6503546583606544 and parameters: {'eta': 0.0609283805867355, 'max_depth': 7, 'subsample': 0.8081370080098623, 'colsample_bytree': 0.6429378661308778, 'gamma': 3.841805161470775, 'alpha': 1.907948430447965, 'lambda': 2.4823498607864143, 'n_round': 938}. Best is trial 0 with value: 0.6402117975449318.\n",
      "[I 2025-09-04 20:30:42,723] Trial 2 finished with value: 0.6402437886333137 and parameters: {'eta': 0.05946869423476747, 'max_depth': 3, 'subsample': 0.6626713691298736, 'colsample_bytree': 0.5044634724833748, 'gamma': 2.287675548446341, 'alpha': 4.233097878082666, 'lambda': 1.6309237507698593, 'n_round': 393}. Best is trial 0 with value: 0.6402117975449318.\n",
      "[I 2025-09-04 20:30:43,423] Trial 3 finished with value: 0.6377707635710373 and parameters: {'eta': 0.023639225171418685, 'max_depth': 5, 'subsample': 0.8128643634021139, 'colsample_bytree': 0.7945144211187071, 'gamma': 0.8599252693896348, 'alpha': 2.7799143693502475, 'lambda': 3.1601093123391304, 'n_round': 943}. Best is trial 3 with value: 0.6377707635710373.\n",
      "[I 2025-09-04 20:30:47,273] Trial 4 finished with value: 0.6501309458671775 and parameters: {'eta': 0.015263947407038883, 'max_depth': 10, 'subsample': 0.7251635598528868, 'colsample_bytree': 0.7118114057545606, 'gamma': 2.4531758422057792, 'alpha': 1.3503284991153737, 'lambda': 0.22780548319086213, 'n_round': 510}. Best is trial 3 with value: 0.6377707635710373.\n",
      "[I 2025-09-04 20:30:47,931] Trial 5 finished with value: 0.6878356461415805 and parameters: {'eta': 0.11806295806396958, 'max_depth': 9, 'subsample': 0.5789801542611188, 'colsample_bytree': 0.9663843901920817, 'gamma': 2.2608785186035494, 'alpha': 2.0685778597025344, 'lambda': 0.5801522619488558, 'n_round': 794}. Best is trial 3 with value: 0.6377707635710373.\n",
      "[I 2025-09-04 20:30:48,648] Trial 6 finished with value: 0.7024459965746181 and parameters: {'eta': 0.18384843364984646, 'max_depth': 10, 'subsample': 0.6013256232007699, 'colsample_bytree': 0.7172249917196166, 'gamma': 4.026858971594287, 'alpha': 0.42183421687326306, 'lambda': 3.969983321801018, 'n_round': 676}. Best is trial 3 with value: 0.6377707635710373.\n",
      "[I 2025-09-04 20:30:49,150] Trial 7 finished with value: 0.6383929492028686 and parameters: {'eta': 0.041307487541008596, 'max_depth': 4, 'subsample': 0.5342466515430278, 'colsample_bytree': 0.5697335914011952, 'gamma': 4.001548263100443, 'alpha': 2.571891357501987, 'lambda': 0.8367165892879952, 'n_round': 346}. Best is trial 3 with value: 0.6377707635710373.\n",
      "[I 2025-09-04 20:30:49,680] Trial 8 finished with value: 0.6533157944520769 and parameters: {'eta': 0.056757731137910925, 'max_depth': 7, 'subsample': 0.9246733952481826, 'colsample_bytree': 0.8396538334210137, 'gamma': 0.7606166193345393, 'alpha': 0.06399131401202407, 'lambda': 0.46188902335215276, 'n_round': 777}. Best is trial 3 with value: 0.6377707635710373.\n",
      "[I 2025-09-04 20:30:49,998] Trial 9 finished with value: 0.668547674300487 and parameters: {'eta': 0.17184052417434825, 'max_depth': 6, 'subsample': 0.5064030883959374, 'colsample_bytree': 0.8981401886714383, 'gamma': 1.3505532904081585, 'alpha': 4.535951119280096, 'lambda': 4.525025042364023, 'n_round': 807}. Best is trial 3 with value: 0.6377707635710373.\n",
      "[I 2025-09-04 20:30:50,662] Trial 10 finished with value: 0.639103590074472 and parameters: {'eta': 0.026463735598735622, 'max_depth': 4, 'subsample': 0.8280656597930781, 'colsample_bytree': 0.8563839465755103, 'gamma': 0.006317968775201077, 'alpha': 3.167614273111988, 'lambda': 3.354582303399175, 'n_round': 926}. Best is trial 3 with value: 0.6377707635710373.\n",
      "[I 2025-09-04 20:30:51,244] Trial 11 finished with value: 0.6396235402326663 and parameters: {'eta': 0.02747516690167795, 'max_depth': 4, 'subsample': 0.7786127429550119, 'colsample_bytree': 0.7938620526467881, 'gamma': 4.442971881503679, 'alpha': 3.1282880657866956, 'lambda': 1.9698427949104897, 'n_round': 336}. Best is trial 3 with value: 0.6377707635710373.\n",
      "[I 2025-09-04 20:30:52,106] Trial 12 finished with value: 0.6388939230999889 and parameters: {'eta': 0.024258280140714485, 'max_depth': 5, 'subsample': 0.8733585203692549, 'colsample_bytree': 0.631377442416285, 'gamma': 4.839642738586145, 'alpha': 3.003551362783381, 'lambda': 3.1384646079385785, 'n_round': 576}. Best is trial 3 with value: 0.6377707635710373.\n",
      "[I 2025-09-04 20:30:52,652] Trial 13 finished with value: 0.643049033168185 and parameters: {'eta': 0.03701719285541436, 'max_depth': 3, 'subsample': 0.6957014949707327, 'colsample_bytree': 0.7477529071506797, 'gamma': 3.258219125139906, 'alpha': 1.2442580447146534, 'lambda': 1.4556000299281637, 'n_round': 490}. Best is trial 3 with value: 0.6377707635710373.\n",
      "[I 2025-09-04 20:30:53,054] Trial 14 finished with value: 0.6498354491818372 and parameters: {'eta': 0.0973781555728027, 'max_depth': 5, 'subsample': 0.9840510556768771, 'colsample_bytree': 0.6514626497625527, 'gamma': 1.4073235607626429, 'alpha': 2.458765898538948, 'lambda': 2.9848263091903906, 'n_round': 610}. Best is trial 3 with value: 0.6377707635710373.\n",
      "[I 2025-09-04 20:30:54,784] Trial 15 finished with value: 0.6382727992858002 and parameters: {'eta': 0.010910373217091165, 'max_depth': 5, 'subsample': 0.5226117241189026, 'colsample_bytree': 0.5287414370741843, 'gamma': 2.8633147490128668, 'alpha': 3.5683973079744384, 'lambda': 1.228693129521904, 'n_round': 877}. Best is trial 3 with value: 0.6377707635710373.\n",
      "[I 2025-09-04 20:30:56,936] Trial 16 finished with value: 0.6446672813652438 and parameters: {'eta': 0.011025847905424758, 'max_depth': 8, 'subsample': 0.6534257902661342, 'colsample_bytree': 0.9577363448978078, 'gamma': 2.979375442062458, 'alpha': 3.818997994154957, 'lambda': 2.3625439507029915, 'n_round': 998}. Best is trial 3 with value: 0.6377707635710373.\n",
      "[I 2025-09-04 20:30:57,879] Trial 17 finished with value: 0.6393180517904895 and parameters: {'eta': 0.017680465520729452, 'max_depth': 5, 'subsample': 0.8523247405276353, 'colsample_bytree': 0.8168513962097631, 'gamma': 1.8072885328198391, 'alpha': 4.890864089401742, 'lambda': 3.957707829210678, 'n_round': 866}. Best is trial 3 with value: 0.6377707635710373.\n",
      "[I 2025-09-04 20:30:59,210] Trial 18 finished with value: 0.6418272676376593 and parameters: {'eta': 0.01990338758377114, 'max_depth': 6, 'subsample': 0.7484394944976471, 'colsample_bytree': 0.5199918730472908, 'gamma': 0.11244020242571251, 'alpha': 3.3176352492955488, 'lambda': 1.2035468120254504, 'n_round': 887}. Best is trial 3 with value: 0.6377707635710373.\n",
      "[I 2025-09-04 20:31:00,604] Trial 19 finished with value: 0.6373315865081488 and parameters: {'eta': 0.010097761180568468, 'max_depth': 5, 'subsample': 0.613007752530996, 'colsample_bytree': 0.7771926315046294, 'gamma': 0.7959247710366713, 'alpha': 3.7941771732867844, 'lambda': 2.0807653630931897, 'n_round': 991}. Best is trial 19 with value: 0.6373315865081488.\n",
      "[I 2025-09-04 20:31:01,070] Trial 20 finished with value: 0.6928967949431893 and parameters: {'eta': 0.26949647965575985, 'max_depth': 8, 'subsample': 0.6137596728252921, 'colsample_bytree': 0.9039327459643736, 'gamma': 0.5940472576148259, 'alpha': 2.631972492737292, 'lambda': 4.973398184772975, 'n_round': 982}. Best is trial 19 with value: 0.6373315865081488.\n",
      "[I 2025-09-04 20:31:02,568] Trial 21 finished with value: 0.6376815554938718 and parameters: {'eta': 0.010161339556255129, 'max_depth': 5, 'subsample': 0.5513527193712675, 'colsample_bytree': 0.7714552318459441, 'gamma': 0.9445499377445516, 'alpha': 3.6601673664556884, 'lambda': 2.0677806287018323, 'n_round': 854}. Best is trial 19 with value: 0.6373315865081488.\n",
      "[I 2025-09-04 20:31:03,958] Trial 22 finished with value: 0.6383581436306879 and parameters: {'eta': 0.010970816456006739, 'max_depth': 4, 'subsample': 0.5553855117368052, 'colsample_bytree': 0.7623027780313651, 'gamma': 0.8095493250355945, 'alpha': 3.7793786511277427, 'lambda': 2.0544031347887635, 'n_round': 946}. Best is trial 19 with value: 0.6373315865081488.\n"
     ]
    },
    {
     "name": "stdout",
     "output_type": "stream",
     "text": [
      "[I 2025-09-04 20:31:05,040] Trial 23 finished with value: 0.6375972428301095 and parameters: {'eta': 0.014809714950835258, 'max_depth': 5, 'subsample': 0.6383796954564989, 'colsample_bytree': 0.7715489427106733, 'gamma': 1.3586000332974693, 'alpha': 4.499646115953045, 'lambda': 2.7499373643906724, 'n_round': 825}. Best is trial 19 with value: 0.6373315865081488.\n",
      "[I 2025-09-04 20:31:06,480] Trial 24 finished with value: 0.6413859887608827 and parameters: {'eta': 0.014265281648451637, 'max_depth': 6, 'subsample': 0.6393518272748404, 'colsample_bytree': 0.6778578694328775, 'gamma': 1.412979321133482, 'alpha': 4.942456262668065, 'lambda': 2.816296957955309, 'n_round': 832}. Best is trial 19 with value: 0.6373315865081488.\n",
      "[I 2025-09-04 20:31:08,280] Trial 25 finished with value: 0.6403545369780013 and parameters: {'eta': 0.010327898204240994, 'max_depth': 7, 'subsample': 0.6854099353821528, 'colsample_bytree': 0.7533510124330236, 'gamma': 1.8014766718268942, 'alpha': 4.441342705312228, 'lambda': 1.8751095352456904, 'n_round': 680}. Best is trial 19 with value: 0.6373315865081488.\n",
      "[I 2025-09-04 20:31:09,323] Trial 26 finished with value: 0.6408785526963418 and parameters: {'eta': 0.017847788148302107, 'max_depth': 3, 'subsample': 0.5766135405647029, 'colsample_bytree': 0.8802727014517553, 'gamma': 0.39215486558324475, 'alpha': 3.893319516008263, 'lambda': 3.5940804470473005, 'n_round': 770}. Best is trial 19 with value: 0.6373315865081488.\n",
      "[I 2025-09-04 20:31:09,952] Trial 27 finished with value: 0.6389982453861525 and parameters: {'eta': 0.033738672672105896, 'max_depth': 4, 'subsample': 0.6176124141068217, 'colsample_bytree': 0.7050595133037403, 'gamma': 1.1513189648513433, 'alpha': 4.676127693218048, 'lambda': 2.6943357549059357, 'n_round': 738}. Best is trial 19 with value: 0.6373315865081488.\n",
      "[I 2025-09-04 20:31:11,160] Trial 28 finished with value: 0.6374582509850892 and parameters: {'eta': 0.013055715010380192, 'max_depth': 5, 'subsample': 0.5685764273281163, 'colsample_bytree': 0.7900612365233965, 'gamma': 1.9911835565152676, 'alpha': 3.5641380766037605, 'lambda': 2.2116081200407094, 'n_round': 855}. Best is trial 19 with value: 0.6373315865081488.\n",
      "[I 2025-09-04 20:31:12,313] Trial 29 finished with value: 0.6412564751266964 and parameters: {'eta': 0.0139186068352797, 'max_depth': 6, 'subsample': 0.7117591900152369, 'colsample_bytree': 0.8180628165471906, 'gamma': 1.8098856011462177, 'alpha': 4.117262945887238, 'lambda': 2.349997714946751, 'n_round': 722}. Best is trial 19 with value: 0.6373315865081488.\n"
     ]
    }
   ],
   "source": [
    "study = optuna.create_study(direction=\"minimize\")\n",
    "study.optimize(objective2, n_trials=30, show_progress_bar=True)"
   ]
  },
  {
   "cell_type": "code",
   "execution_count": 113,
   "id": "6684188f",
   "metadata": {},
   "outputs": [
    {
     "name": "stdout",
     "output_type": "stream",
     "text": [
      "Best params → {'eta': 0.010097761180568468, 'max_depth': 5, 'subsample': 0.613007752530996, 'colsample_bytree': 0.7771926315046294, 'gamma': 0.7959247710366713, 'alpha': 3.7941771732867844, 'lambda': 2.0807653630931897, 'n_round': 991}    best log-loss = 0.6373315865081488\n"
     ]
    }
   ],
   "source": [
    "print(\"Best params →\", study.best_trial.params, \"   best log-loss =\", study.best_value)"
   ]
  },
  {
   "cell_type": "code",
   "execution_count": 114,
   "id": "a8bf49d8",
   "metadata": {},
   "outputs": [],
   "source": [
    "bin_200_trial_best_params = {'eta': 0.015307161753471939, 'max_depth': 4, 'subsample': 0.5065237812985154, 'colsample_bytree': 0.7123402346361045, 'gamma': 3.199607407360512, 'alpha': 2.17738828063744, 'lambda': 1.154777261655405, 'num_boost_round': 459}"
   ]
  },
  {
   "cell_type": "code",
   "execution_count": 115,
   "id": "e538646a",
   "metadata": {},
   "outputs": [],
   "source": [
    "bin_200_trial_best_params.update({\n",
    "    \"objective\": \"binary:logistic\",\n",
    "    \"eval_metric\": \"logloss\",\n",
    "    \"tree_method\": \"gpu_hist\",\n",
    "    \"device\": \"cuda\",\n",
    "    \"seed\": 42,\n",
    "    \"verbosity\": 0,\n",
    "})"
   ]
  },
  {
   "cell_type": "code",
   "execution_count": 116,
   "id": "b996f804",
   "metadata": {},
   "outputs": [
    {
     "name": "stdout",
     "output_type": "stream",
     "text": [
      "[0]\ttest-logloss:0.69152\n",
      "[50]\ttest-logloss:0.65207\n",
      "[100]\ttest-logloss:0.64001\n",
      "[150]\ttest-logloss:0.63706\n",
      "[200]\ttest-logloss:0.63676\n",
      "[204]\ttest-logloss:0.63680\n"
     ]
    }
   ],
   "source": [
    "final_bin = xgb.train(\n",
    "    params=bin_200_trial_best_params,\n",
    "    dtrain=dtrain,\n",
    "    num_boost_round=bin_200_trial_best_params[\"num_boost_round\"],\n",
    "    evals=[(dtest, \"test\")],\n",
    "    early_stopping_rounds=30,\n",
    "    verbose_eval=50,\n",
    ")"
   ]
  },
  {
   "cell_type": "code",
   "execution_count": 117,
   "id": "c05c79ee",
   "metadata": {},
   "outputs": [],
   "source": [
    "proba_bin = final_bin.predict(dtest)\n",
    "pred_bin  = (proba_bin > 0.5).astype(int)"
   ]
  },
  {
   "cell_type": "code",
   "execution_count": 118,
   "id": "914908fb",
   "metadata": {},
   "outputs": [
    {
     "name": "stdout",
     "output_type": "stream",
     "text": [
      "[[15219  9314]\n",
      " [10605 18792]]\n",
      "              precision    recall  f1-score   support\n",
      "\n",
      "        down       0.59      0.62      0.60     24533\n",
      "    not-down       0.67      0.64      0.65     29397\n",
      "\n",
      "    accuracy                           0.63     53930\n",
      "   macro avg       0.63      0.63      0.63     53930\n",
      "weighted avg       0.63      0.63      0.63     53930\n",
      "\n",
      "ROC AUC: 0.6819077714982188\n"
     ]
    }
   ],
   "source": [
    "print(confusion_matrix(y_test_bin, pred_bin))\n",
    "print(classification_report(y_test_bin, pred_bin, target_names=[\"down\", \"not-down\"]))\n",
    "print(\"ROC AUC:\", roc_auc_score(y_test_bin, proba_bin))"
   ]
  },
  {
   "cell_type": "code",
   "execution_count": null,
   "id": "29c3e95b",
   "metadata": {},
   "outputs": [],
   "source": []
  }
 ],
 "metadata": {
  "kernelspec": {
   "display_name": "Python 3 (ipykernel)",
   "language": "python",
   "name": "python3"
  },
  "language_info": {
   "codemirror_mode": {
    "name": "ipython",
    "version": 3
   },
   "file_extension": ".py",
   "mimetype": "text/x-python",
   "name": "python",
   "nbconvert_exporter": "python",
   "pygments_lexer": "ipython3",
   "version": "3.9.13"
  }
 },
 "nbformat": 4,
 "nbformat_minor": 5
}
