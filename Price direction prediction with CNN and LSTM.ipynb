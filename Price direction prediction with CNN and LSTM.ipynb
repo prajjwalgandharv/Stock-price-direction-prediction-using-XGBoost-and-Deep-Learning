{
 "cells": [
  {
   "cell_type": "code",
   "execution_count": 1,
   "id": "a1f1279d",
   "metadata": {},
   "outputs": [
    {
     "name": "stdout",
     "output_type": "stream",
     "text": [
      "Device: cuda\n"
     ]
    }
   ],
   "source": [
    "import numpy as np, pandas as pd, matplotlib.pyplot as plt\n",
    "import torch, torch.nn as nn, torch.nn.functional as F\n",
    "from torch.utils.data import Dataset, DataLoader\n",
    "from sklearn.metrics import (roc_auc_score, precision_recall_curve,\n",
    "                             confusion_matrix, classification_report,\n",
    "                             average_precision_score)\n",
    "from sklearn.preprocessing import StandardScaler\n",
    "\n",
    "device = torch.device(\"cuda\" if torch.cuda.is_available() else \"cpu\")\n",
    "print(\"Device:\", device)"
   ]
  },
  {
   "cell_type": "code",
   "execution_count": 2,
   "id": "576fecb1",
   "metadata": {},
   "outputs": [
    {
     "name": "stdout",
     "output_type": "stream",
     "text": [
      "orderbook rows: 269748\n"
     ]
    }
   ],
   "source": [
    "orderbook = pd.read_csv(\"AMZN_2012-06-21_34200000_57600000_orderbook_10.csv\", header=None)\n",
    "print(\"orderbook rows:\", len(orderbook))\n",
    "\n",
    "ask_p_cols = [4*i     for i in range(10)]\n",
    "ask_v_cols = [4*i + 1 for i in range(10)]\n",
    "bid_p_cols = [4*i + 2 for i in range(10)]\n",
    "bid_v_cols = [4*i + 3 for i in range(10)]"
   ]
  },
  {
   "cell_type": "code",
   "execution_count": 3,
   "id": "98977576",
   "metadata": {},
   "outputs": [],
   "source": [
    "def stationarise(df):\n",
    "    ask_p = df[ask_p_cols].values.astype(np.float64)\n",
    "    bid_p = df[bid_p_cols].values.astype(np.float64)\n",
    "    ask_v = df[ask_v_cols].values.astype(np.float64)\n",
    "    bid_v = df[bid_v_cols].values.astype(np.float64)\n",
    "\n",
    "    mid    = 0.5*(ask_p[:,0] + bid_p[:,0])\n",
    "    spread = np.maximum(ask_p[:,0] - bid_p[:,0], 1e-6)\n",
    "\n",
    "    rel_ask_p = (ask_p - mid[:,None]) / spread[:,None]\n",
    "    rel_bid_p = (bid_p - mid[:,None]) / spread[:,None]\n",
    "    log_ask_v = np.log1p(ask_v)\n",
    "    log_bid_v = np.log1p(bid_v)\n",
    "\n",
    "    X = np.concatenate([rel_ask_p, log_ask_v, rel_bid_p, log_bid_v], axis=1)\n",
    "    return X, mid, spread\n",
    "\n",
    "X_raw, mid_raw, spread_raw = stationarise(orderbook)"
   ]
  },
  {
   "cell_type": "code",
   "execution_count": 4,
   "id": "fcfa33b8",
   "metadata": {},
   "outputs": [],
   "source": [
    "window = 50  # past ticks\n",
    "horizon = 10  # ticks ahead\n",
    "stride = 10  # step between windows\n",
    "theta = 0.15 # spread based threshold to classify only significant drops as a drop\n",
    "val_frac = 0.10\n",
    "test_frac = 0.10\n",
    "batch_size = 256\n",
    "num_workers = 0"
   ]
  },
  {
   "cell_type": "code",
   "execution_count": 5,
   "id": "5434b738",
   "metadata": {},
   "outputs": [
    {
     "name": "stdout",
     "output_type": "stream",
     "text": [
      "Positives ratio: 0.08124179759618592\n"
     ]
    }
   ],
   "source": [
    "future_mid = pd.Series(mid_raw).shift(-horizon).to_numpy()\n",
    "valid = len(mid_raw)-horizon\n",
    "mid_now = mid_raw[:valid]\n",
    "future_mid = future_mid[:valid]\n",
    "spread_now = spread_raw[:valid]\n",
    "X_raw = X_raw[:valid]\n",
    "ret = (future_mid - mid_now)/np.maximum(spread_now, 1e-6)\n",
    "y_bin = (ret < -theta).astype(np.int64)   # 1 = actionable drop, means the drop has to be at least theta % of the spread\n",
    "print(\"Positives ratio:\", y_bin.mean())"
   ]
  },
  {
   "cell_type": "code",
   "execution_count": 6,
   "id": "cf249465",
   "metadata": {},
   "outputs": [],
   "source": [
    "N = len(X_raw)\n",
    "cut_test = int(test_frac*N)\n",
    "cut_val = int(val_frac*N)\n",
    "train_slice = slice(0, N-cut_val-cut_test)\n",
    "val_slice = slice(N-cut_val-cut_test, N-cut_test)\n",
    "test_slice = slice(N-cut_test, N)\n",
    "\n",
    "X_train_raw, y_train_raw = X_raw[train_slice], y_bin[train_slice]\n",
    "X_val_raw, y_val_raw = X_raw[val_slice], y_bin[val_slice]\n",
    "X_test_raw, y_test_raw = X_raw[test_slice], y_bin[test_slice]"
   ]
  },
  {
   "cell_type": "code",
   "execution_count": 7,
   "id": "428efcc8",
   "metadata": {},
   "outputs": [
    {
     "name": "stdout",
     "output_type": "stream",
     "text": [
      "Sequences shapes: (21575, 50, 40) (2693, 50, 40) (2693, 50, 40)\n"
     ]
    }
   ],
   "source": [
    "def seq_builder(X, y, w=window, s=stride):\n",
    "    Xs, ys = [], []\n",
    "    for i in range(0, len(X)-w+1, s):\n",
    "        Xs.append(X[i:i+w]); ys.append(y[i+w-1])\n",
    "    return np.asarray(Xs, np.float32), np.asarray(ys, np.int64)\n",
    "\n",
    "X_tr, y_tr = seq_builder(X_train_raw, y_train_raw)\n",
    "X_va, y_va = seq_builder(X_val_raw,   y_val_raw)\n",
    "X_te, y_te = seq_builder(X_test_raw,  y_test_raw)\n",
    "print(\"Sequences shapes:\", X_tr.shape, X_va.shape, X_te.shape)"
   ]
  },
  {
   "cell_type": "code",
   "execution_count": 8,
   "id": "87179ef2",
   "metadata": {},
   "outputs": [],
   "source": [
    "scaler = StandardScaler()\n",
    "scaler.fit(X_tr.reshape(-1, X_tr.shape[-1]))\n",
    "scale = lambda x: scaler.transform(x.reshape(-1,x.shape[-1])).reshape(x.shape)\n",
    "X_tr, X_va, X_te = map(scale, (X_tr, X_va, X_te))"
   ]
  },
  {
   "cell_type": "code",
   "execution_count": 9,
   "id": "a43af3a9",
   "metadata": {},
   "outputs": [],
   "source": [
    "class LOBinDS(Dataset):\n",
    "    def __init__(self, X, y):\n",
    "        self.X = torch.tensor(X).permute(0,2,1)\n",
    "        self.y = torch.tensor(y).float().unsqueeze(1)\n",
    "    def __len__(self): return len(self.X)\n",
    "    def __getitem__(self,i): return self.X[i], self.y[i]\n",
    "\n",
    "train_loader = DataLoader(LOBinDS(X_tr, y_tr), batch_size=256, shuffle=True, num_workers=0)\n",
    "val_loader   = DataLoader(LOBinDS(X_va, y_va), batch_size=256, shuffle=False)\n",
    "test_loader  = DataLoader(LOBinDS(X_te, y_te), batch_size=256, shuffle=False)"
   ]
  },
  {
   "cell_type": "code",
   "execution_count": 10,
   "id": "cf9df4b8",
   "metadata": {},
   "outputs": [],
   "source": [
    "class CNN_LSTM_BIN(nn.Module):\n",
    "    def __init__(self, feat_in, T=window):\n",
    "        super().__init__()\n",
    "        self.conv1 = nn.Conv1d(feat_in, 64, 3, padding=1)\n",
    "        self.bn1   = nn.BatchNorm1d(64)\n",
    "        self.conv2 = nn.Conv1d(64, 128, 3, padding=1)\n",
    "        self.bn2   = nn.BatchNorm1d(128)\n",
    "        self.conv3 = nn.Conv1d(128, 256, 3, padding=1)\n",
    "        self.bn3   = nn.BatchNorm1d(256)\n",
    "        self.pool  = nn.MaxPool1d(2)\n",
    "        self.drop  = nn.Dropout(0.3)\n",
    "\n",
    "        with torch.no_grad():\n",
    "            d = torch.zeros(1, feat_in, T)\n",
    "            x = self.pool(F.relu(self.bn1(self.conv1(d))))\n",
    "            x = self.pool(F.relu(self.bn2(self.conv2(x))))\n",
    "            x = self.pool(F.relu(self.bn3(self.conv3(x))))\n",
    "            t_after, c_after = x.shape[-1], x.shape[1]\n",
    "        self.lstm = nn.LSTM(c_after, 128, batch_first=True, bidirectional=True)\n",
    "        self.fc1  = nn.Linear(128*2, 64)\n",
    "        self.fc2  = nn.Linear(64, 1)\n",
    "\n",
    "    def forward(self,x):\n",
    "        x = self.pool(F.relu(self.bn1(self.conv1(x)))); x=self.drop(x)\n",
    "        x = self.pool(F.relu(self.bn2(self.conv2(x)))); x=self.drop(x)\n",
    "        x = self.pool(F.relu(self.bn3(self.conv3(x)))); x=self.drop(x)\n",
    "        x = x.permute(0,2,1)\n",
    "        out,_ = self.lstm(x)\n",
    "        x = out.mean(dim=1)\n",
    "        x = F.relu(self.fc1(x)); x=self.drop(x)\n",
    "        return self.fc2(x)\n",
    "\n",
    "model = CNN_LSTM_BIN(X_tr.shape[2]).to(device)"
   ]
  },
  {
   "cell_type": "code",
   "execution_count": 11,
   "id": "adc0ad8e",
   "metadata": {},
   "outputs": [],
   "source": [
    "neg, pos = np.bincount(y_tr)\n",
    "pos_weight = torch.tensor([(neg/pos)**0.5], device=device)\n",
    "criterion  = nn.BCEWithLogitsLoss(pos_weight=pos_weight)\n",
    "optimizer  = torch.optim.Adam(model.parameters(), lr=3e-4, weight_decay=1e-5)\n",
    "scheduler  = torch.optim.lr_scheduler.ReduceLROnPlateau(optimizer, 'min',\n",
    "                                                       factor=0.5, patience=3, min_lr=1e-6)"
   ]
  },
  {
   "cell_type": "code",
   "execution_count": 12,
   "id": "3a56f333",
   "metadata": {},
   "outputs": [
    {
     "name": "stdout",
     "output_type": "stream",
     "text": [
      "Ep   1 | train 0.6436 | val 0.5777 | lr 3.00e-04\n",
      "Ep   2 | train 0.6087 | val 0.5652 | lr 3.00e-04\n",
      "Ep   3 | train 0.5951 | val 0.5572 | lr 3.00e-04\n",
      "Ep   4 | train 0.5820 | val 0.5508 | lr 3.00e-04\n",
      "Ep   5 | train 0.5751 | val 0.5433 | lr 3.00e-04\n",
      "Ep   6 | train 0.5687 | val 0.5500 | lr 3.00e-04\n",
      "Ep   7 | train 0.5619 | val 0.5446 | lr 3.00e-04\n",
      "Ep   8 | train 0.5540 | val 0.5476 | lr 3.00e-04\n",
      "Ep   9 | train 0.5535 | val 0.5421 | lr 3.00e-04\n",
      "Ep  10 | train 0.5517 | val 0.5425 | lr 3.00e-04\n",
      "Ep  11 | train 0.5505 | val 0.5400 | lr 3.00e-04\n",
      "Ep  12 | train 0.5444 | val 0.5357 | lr 3.00e-04\n",
      "Ep  13 | train 0.5413 | val 0.5386 | lr 3.00e-04\n",
      "Ep  14 | train 0.5430 | val 0.5385 | lr 3.00e-04\n",
      "Ep  15 | train 0.5428 | val 0.5394 | lr 3.00e-04\n",
      "Ep  16 | train 0.5380 | val 0.5437 | lr 1.50e-04\n",
      "Ep  17 | train 0.5234 | val 0.5455 | lr 1.50e-04\n",
      "Ep  18 | train 0.5209 | val 0.5446 | lr 1.50e-04\n",
      "Ep  19 | train 0.5228 | val 0.5483 | lr 1.50e-04\n",
      "Ep  20 | train 0.5218 | val 0.5507 | lr 7.50e-05\n",
      "Ep  21 | train 0.5170 | val 0.5471 | lr 7.50e-05\n",
      "Ep  22 | train 0.5219 | val 0.5488 | lr 7.50e-05\n",
      "Ep  23 | train 0.5125 | val 0.5548 | lr 7.50e-05\n",
      "Ep  24 | train 0.5148 | val 0.5521 | lr 3.75e-05\n",
      "Ep  25 | train 0.5080 | val 0.5522 | lr 3.75e-05\n",
      "Ep  26 | train 0.5152 | val 0.5532 | lr 3.75e-05\n",
      "Ep  27 | train 0.5117 | val 0.5517 | lr 3.75e-05\n",
      "Ep  28 | train 0.5041 | val 0.5532 | lr 1.87e-05\n",
      "Ep  29 | train 0.5077 | val 0.5530 | lr 1.87e-05\n",
      "Ep  30 | train 0.5064 | val 0.5536 | lr 1.87e-05\n",
      "Ep  31 | train 0.5056 | val 0.5516 | lr 1.87e-05\n",
      "Ep  32 | train 0.5038 | val 0.5547 | lr 9.37e-06\n",
      "Ep  33 | train 0.5009 | val 0.5555 | lr 9.37e-06\n",
      "Ep  34 | train 0.5023 | val 0.5533 | lr 9.37e-06\n",
      "Ep  35 | train 0.5031 | val 0.5535 | lr 9.37e-06\n",
      "Ep  36 | train 0.5052 | val 0.5533 | lr 4.69e-06\n",
      "Ep  37 | train 0.4987 | val 0.5540 | lr 4.69e-06\n",
      "Ep  38 | train 0.5065 | val 0.5554 | lr 4.69e-06\n",
      "Ep  39 | train 0.5031 | val 0.5553 | lr 4.69e-06\n",
      "Ep  40 | train 0.5021 | val 0.5540 | lr 2.34e-06\n",
      "Ep  41 | train 0.5038 | val 0.5557 | lr 2.34e-06\n",
      "Ep  42 | train 0.5028 | val 0.5566 | lr 2.34e-06\n",
      "Ep  43 | train 0.5052 | val 0.5556 | lr 2.34e-06\n",
      "Ep  44 | train 0.5058 | val 0.5550 | lr 1.17e-06\n",
      "Ep  45 | train 0.5093 | val 0.5567 | lr 1.17e-06\n",
      "Ep  46 | train 0.5035 | val 0.5549 | lr 1.17e-06\n",
      "Ep  47 | train 0.5002 | val 0.5558 | lr 1.17e-06\n",
      "Ep  48 | train 0.5031 | val 0.5535 | lr 1.00e-06\n",
      "Ep  49 | train 0.5037 | val 0.5557 | lr 1.00e-06\n",
      "Ep  50 | train 0.5037 | val 0.5564 | lr 1.00e-06\n",
      "Ep  51 | train 0.5060 | val 0.5521 | lr 1.00e-06\n",
      "Ep  52 | train 0.5036 | val 0.5564 | lr 1.00e-06\n",
      "Ep  53 | train 0.5032 | val 0.5539 | lr 1.00e-06\n",
      "Ep  54 | train 0.5059 | val 0.5558 | lr 1.00e-06\n",
      "Ep  55 | train 0.5018 | val 0.5551 | lr 1.00e-06\n",
      "Ep  56 | train 0.4993 | val 0.5544 | lr 1.00e-06\n",
      "Ep  57 | train 0.5022 | val 0.5566 | lr 1.00e-06\n",
      "Ep  58 | train 0.5007 | val 0.5553 | lr 1.00e-06\n",
      "Ep  59 | train 0.5013 | val 0.5538 | lr 1.00e-06\n",
      "Ep  60 | train 0.5027 | val 0.5547 | lr 1.00e-06\n",
      "Ep  61 | train 0.4970 | val 0.5557 | lr 1.00e-06\n",
      "Ep  62 | train 0.4942 | val 0.5549 | lr 1.00e-06\n",
      "Ep  63 | train 0.4988 | val 0.5572 | lr 1.00e-06\n",
      "Ep  64 | train 0.5013 | val 0.5559 | lr 1.00e-06\n",
      "Ep  65 | train 0.5007 | val 0.5560 | lr 1.00e-06\n",
      "Ep  66 | train 0.4966 | val 0.5562 | lr 1.00e-06\n",
      "Ep  67 | train 0.5025 | val 0.5564 | lr 1.00e-06\n",
      "Ep  68 | train 0.5021 | val 0.5577 | lr 1.00e-06\n",
      "Ep  69 | train 0.5058 | val 0.5568 | lr 1.00e-06\n",
      "Ep  70 | train 0.5021 | val 0.5584 | lr 1.00e-06\n",
      "Ep  71 | train 0.4941 | val 0.5564 | lr 1.00e-06\n",
      "Ep  72 | train 0.4983 | val 0.5562 | lr 1.00e-06\n",
      "Ep  73 | train 0.5053 | val 0.5562 | lr 1.00e-06\n",
      "Ep  74 | train 0.5054 | val 0.5575 | lr 1.00e-06\n",
      "Ep  75 | train 0.5036 | val 0.5530 | lr 1.00e-06\n",
      "Ep  76 | train 0.5076 | val 0.5577 | lr 1.00e-06\n",
      "Ep  77 | train 0.5004 | val 0.5572 | lr 1.00e-06\n",
      "Ep  78 | train 0.4991 | val 0.5570 | lr 1.00e-06\n",
      "Ep  79 | train 0.4989 | val 0.5555 | lr 1.00e-06\n",
      "Ep  80 | train 0.5032 | val 0.5556 | lr 1.00e-06\n",
      "Ep  81 | train 0.5015 | val 0.5576 | lr 1.00e-06\n",
      "Ep  82 | train 0.5053 | val 0.5563 | lr 1.00e-06\n",
      "Ep  83 | train 0.5010 | val 0.5555 | lr 1.00e-06\n",
      "Ep  84 | train 0.5014 | val 0.5546 | lr 1.00e-06\n",
      "Ep  85 | train 0.5026 | val 0.5559 | lr 1.00e-06\n",
      "Ep  86 | train 0.5024 | val 0.5539 | lr 1.00e-06\n",
      "Ep  87 | train 0.5021 | val 0.5551 | lr 1.00e-06\n",
      "Ep  88 | train 0.5028 | val 0.5567 | lr 1.00e-06\n",
      "Ep  89 | train 0.5054 | val 0.5562 | lr 1.00e-06\n",
      "Ep  90 | train 0.4984 | val 0.5590 | lr 1.00e-06\n",
      "Ep  91 | train 0.5019 | val 0.5579 | lr 1.00e-06\n",
      "Ep  92 | train 0.4991 | val 0.5572 | lr 1.00e-06\n",
      "Ep  93 | train 0.5017 | val 0.5566 | lr 1.00e-06\n",
      "Ep  94 | train 0.5020 | val 0.5554 | lr 1.00e-06\n",
      "Ep  95 | train 0.4997 | val 0.5547 | lr 1.00e-06\n",
      "Ep  96 | train 0.5080 | val 0.5559 | lr 1.00e-06\n",
      "Ep  97 | train 0.4992 | val 0.5557 | lr 1.00e-06\n",
      "Ep  98 | train 0.5023 | val 0.5574 | lr 1.00e-06\n",
      "Ep  99 | train 0.5040 | val 0.5532 | lr 1.00e-06\n",
      "Ep 100 | train 0.5026 | val 0.5556 | lr 1.00e-06\n"
     ]
    }
   ],
   "source": [
    "epochs = 100\n",
    "train_l, val_l = [], []\n",
    "for ep in range(1,epochs+1):\n",
    "    model.train(); run=0.\n",
    "    for xb,yb in train_loader:\n",
    "        xb,yb = xb.to(device), yb.to(device)\n",
    "        optimizer.zero_grad(); loss = criterion(model(xb), yb); loss.backward(); optimizer.step(); run+=loss.item()\n",
    "    tl = run/len(train_loader); train_l.append(tl)\n",
    "\n",
    "    model.eval(); vrun=0.\n",
    "    with torch.no_grad():\n",
    "        for xb,yb in val_loader:\n",
    "            vrun += criterion(model(xb.to(device)), yb.to(device)).item()\n",
    "    vl = vrun/len(val_loader); val_l.append(vl); scheduler.step(vl)\n",
    "    print(f\"Ep {ep:3d} | train {tl:.4f} | val {vl:.4f} | lr {optimizer.param_groups[0]['lr']:.2e}\")"
   ]
  },
  {
   "cell_type": "code",
   "execution_count": 13,
   "id": "4c9b3a71",
   "metadata": {},
   "outputs": [],
   "source": [
    "r_min = 0.60 # minimum recall wanted\n",
    "p_min = 0.30 # minimum precision wanted\n",
    "gain_right = 1.0 # unit gain per caught down move (scaled)\n",
    "cost_wrong = 0.5 # unit cost per wrong short"
   ]
  },
  {
   "cell_type": "code",
   "execution_count": 14,
   "id": "4d614c34",
   "metadata": {},
   "outputs": [
    {
     "name": "stdout",
     "output_type": "stream",
     "text": [
      "ROC‑AUC 0.647 | PR‑AUC 0.218\n",
      "Chosen thr (recall-max-prec) = 0.200\n"
     ]
    }
   ],
   "source": [
    "model.eval(); probs, ytrue = [], []\n",
    "with torch.no_grad():\n",
    "    for xb,yb in test_loader:\n",
    "        logits = model(xb.to(device)); probs.append(torch.sigmoid(logits).cpu()); ytrue.append(yb)\n",
    "probs = torch.cat(probs).numpy().ravel(); ytrue = torch.cat(ytrue).numpy().ravel()\n",
    "\n",
    "roc = roc_auc_score(ytrue, probs)\n",
    "pr_auc = average_precision_score(ytrue, probs)\n",
    "print(f\"ROC‑AUC {roc:.3f} | PR‑AUC {pr_auc:.3f}\")\n",
    "\n",
    "prec, rec, thr = precision_recall_curve(ytrue, probs)\n",
    "prec_t, rec_t, thr = prec[1:], rec[1:], thr  # align\n",
    "mask = (rec_t>=r_min) & (prec_t>=p_min)\n",
    "if mask.any():\n",
    "    chosen = thr[mask][0]; reason='constraint'\n",
    "else:\n",
    "    mask_r = rec_t>=r_min\n",
    "    if mask_r.any():\n",
    "        idx = np.argmax(prec_t[mask_r]); chosen = thr[mask_r][idx]; reason='recall-max-prec'\n",
    "    else:\n",
    "        ev = rec_t*gain_right - (1-prec_t)*cost_wrong; chosen = thr[np.argmax(ev)]; reason='ev'\n",
    "print(f\"Chosen thr ({reason}) = {chosen:.3f}\")"
   ]
  },
  {
   "cell_type": "code",
   "execution_count": 15,
   "id": "146d3f93",
   "metadata": {},
   "outputs": [
    {
     "name": "stdout",
     "output_type": "stream",
     "text": [
      "Confusion matrix:\n",
      " [[1508  892]\n",
      " [ 113  180]]\n",
      "              precision    recall  f1-score   support\n",
      "\n",
      "         0.0      0.930     0.628     0.750      2400\n",
      "         1.0      0.168     0.614     0.264       293\n",
      "\n",
      "    accuracy                          0.627      2693\n",
      "   macro avg      0.549     0.621     0.507      2693\n",
      "weighted avg      0.847     0.627     0.697      2693\n",
      "\n"
     ]
    }
   ],
   "source": [
    "preds = (probs > chosen).astype(int)\n",
    "print(\"Confusion matrix:\\n\", confusion_matrix(ytrue, preds))\n",
    "print(classification_report(ytrue, preds, digits=3))"
   ]
  },
  {
   "cell_type": "code",
   "execution_count": 16,
   "id": "b78e3039",
   "metadata": {},
   "outputs": [
    {
     "data": {
      "image/png": "[encoded data removed]",
      "text/plain": [
       "<Figure size 640x480 with 1 Axes>"
      ]
     },
     "metadata": {},
     "output_type": "display_data"
    }
   ],
   "source": [
    "plt.figure(); plt.plot(rec_t, prec_t, label='PR curve');\n",
    "idx = np.argmin(np.abs(thr-chosen)); plt.scatter(rec_t[idx], prec_t[idx], c='red');\n",
    "plt.xlabel('Recall'); plt.ylabel('Precision'); plt.legend(); plt.show()"
   ]
  },
  {
   "cell_type": "code",
   "execution_count": null,
   "id": "87c36623",
   "metadata": {},
   "outputs": [],
   "source": []
  }
 ],
 "metadata": {
  "kernelspec": {
   "display_name": "Python 3 (ipykernel)",
   "language": "python",
   "name": "python3"
  },
  "language_info": {
   "codemirror_mode": {
    "name": "ipython",
    "version": 3
   },
   "file_extension": ".py",
   "mimetype": "text/x-python",
   "name": "python",
   "nbconvert_exporter": "python",
   "pygments_lexer": "ipython3",
   "version": "3.9.13"
  }
 },
 "nbformat": 4,
 "nbformat_minor": 5
}
